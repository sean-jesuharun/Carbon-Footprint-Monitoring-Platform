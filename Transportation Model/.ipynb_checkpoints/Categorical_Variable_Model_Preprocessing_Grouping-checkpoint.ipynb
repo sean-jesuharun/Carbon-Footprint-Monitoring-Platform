{
 "cells": [
  {
   "cell_type": "code",
   "execution_count": 1,
   "id": "37c974cb-6dc9-4bcd-8bd6-dbbf09419c40",
   "metadata": {},
   "outputs": [
    {
     "data": {
      "text/plain": [
       "'C:\\\\Users\\\\SEAN\\\\anaconda3\\\\envs\\\\Carbon_Cloud\\\\python.exe'"
      ]
     },
     "execution_count": 1,
     "metadata": {},
     "output_type": "execute_result"
    }
   ],
   "source": [
    "import sys\n",
    "sys.executable"
   ]
  },
  {
   "cell_type": "code",
   "execution_count": 2,
   "id": "0acf6469-1835-4e66-ae2a-a299e74f8326",
   "metadata": {},
   "outputs": [],
   "source": [
    "# Importing required libraries\n",
    "import pandas as pd\n",
    "import numpy as np\n",
    "from matplotlib import pyplot as plt\n",
    "import seaborn as sns"
   ]
  },
  {
   "cell_type": "code",
   "execution_count": 3,
   "id": "4b070403-aa45-4f74-ad2e-dfe9fbd8b79e",
   "metadata": {},
   "outputs": [
    {
     "data": {
      "text/html": [
       "<div>\n",
       "<style scoped>\n",
       "    .dataframe tbody tr th:only-of-type {\n",
       "        vertical-align: middle;\n",
       "    }\n",
       "\n",
       "    .dataframe tbody tr th {\n",
       "        vertical-align: top;\n",
       "    }\n",
       "\n",
       "    .dataframe thead th {\n",
       "        text-align: right;\n",
       "    }\n",
       "</style>\n",
       "<table border=\"1\" class=\"dataframe\">\n",
       "  <thead>\n",
       "    <tr style=\"text-align: right;\">\n",
       "      <th></th>\n",
       "      <th>Make</th>\n",
       "      <th>Model</th>\n",
       "      <th>Vehicle Class</th>\n",
       "      <th>Engine Size(L)</th>\n",
       "      <th>Cylinders</th>\n",
       "      <th>Transmission</th>\n",
       "      <th>Fuel Type</th>\n",
       "      <th>Fuel Consumption City (L/100 km)</th>\n",
       "      <th>Fuel Consumption Hwy (L/100 km)</th>\n",
       "      <th>Fuel Consumption Comb (L/100 km)</th>\n",
       "      <th>Fuel Consumption Comb (mpg)</th>\n",
       "      <th>CO2 Emissions(g/km)</th>\n",
       "    </tr>\n",
       "  </thead>\n",
       "  <tbody>\n",
       "    <tr>\n",
       "      <th>7380</th>\n",
       "      <td>VOLVO</td>\n",
       "      <td>XC40 T5 AWD</td>\n",
       "      <td>SUV - SMALL</td>\n",
       "      <td>2.0</td>\n",
       "      <td>4</td>\n",
       "      <td>AS8</td>\n",
       "      <td>Z</td>\n",
       "      <td>10.7</td>\n",
       "      <td>7.7</td>\n",
       "      <td>9.4</td>\n",
       "      <td>30</td>\n",
       "      <td>219</td>\n",
       "    </tr>\n",
       "    <tr>\n",
       "      <th>7381</th>\n",
       "      <td>VOLVO</td>\n",
       "      <td>XC60 T5 AWD</td>\n",
       "      <td>SUV - SMALL</td>\n",
       "      <td>2.0</td>\n",
       "      <td>4</td>\n",
       "      <td>AS8</td>\n",
       "      <td>Z</td>\n",
       "      <td>11.2</td>\n",
       "      <td>8.3</td>\n",
       "      <td>9.9</td>\n",
       "      <td>29</td>\n",
       "      <td>232</td>\n",
       "    </tr>\n",
       "    <tr>\n",
       "      <th>7382</th>\n",
       "      <td>VOLVO</td>\n",
       "      <td>XC60 T6 AWD</td>\n",
       "      <td>SUV - SMALL</td>\n",
       "      <td>2.0</td>\n",
       "      <td>4</td>\n",
       "      <td>AS8</td>\n",
       "      <td>Z</td>\n",
       "      <td>11.7</td>\n",
       "      <td>8.6</td>\n",
       "      <td>10.3</td>\n",
       "      <td>27</td>\n",
       "      <td>240</td>\n",
       "    </tr>\n",
       "    <tr>\n",
       "      <th>7383</th>\n",
       "      <td>VOLVO</td>\n",
       "      <td>XC90 T5 AWD</td>\n",
       "      <td>SUV - STANDARD</td>\n",
       "      <td>2.0</td>\n",
       "      <td>4</td>\n",
       "      <td>AS8</td>\n",
       "      <td>Z</td>\n",
       "      <td>11.2</td>\n",
       "      <td>8.3</td>\n",
       "      <td>9.9</td>\n",
       "      <td>29</td>\n",
       "      <td>232</td>\n",
       "    </tr>\n",
       "    <tr>\n",
       "      <th>7384</th>\n",
       "      <td>VOLVO</td>\n",
       "      <td>XC90 T6 AWD</td>\n",
       "      <td>SUV - STANDARD</td>\n",
       "      <td>2.0</td>\n",
       "      <td>4</td>\n",
       "      <td>AS8</td>\n",
       "      <td>Z</td>\n",
       "      <td>12.2</td>\n",
       "      <td>8.7</td>\n",
       "      <td>10.7</td>\n",
       "      <td>26</td>\n",
       "      <td>248</td>\n",
       "    </tr>\n",
       "  </tbody>\n",
       "</table>\n",
       "</div>"
      ],
      "text/plain": [
       "       Make        Model   Vehicle Class  Engine Size(L)  Cylinders  \\\n",
       "7380  VOLVO  XC40 T5 AWD     SUV - SMALL             2.0          4   \n",
       "7381  VOLVO  XC60 T5 AWD     SUV - SMALL             2.0          4   \n",
       "7382  VOLVO  XC60 T6 AWD     SUV - SMALL             2.0          4   \n",
       "7383  VOLVO  XC90 T5 AWD  SUV - STANDARD             2.0          4   \n",
       "7384  VOLVO  XC90 T6 AWD  SUV - STANDARD             2.0          4   \n",
       "\n",
       "     Transmission Fuel Type  Fuel Consumption City (L/100 km)  \\\n",
       "7380          AS8         Z                              10.7   \n",
       "7381          AS8         Z                              11.2   \n",
       "7382          AS8         Z                              11.7   \n",
       "7383          AS8         Z                              11.2   \n",
       "7384          AS8         Z                              12.2   \n",
       "\n",
       "      Fuel Consumption Hwy (L/100 km)  Fuel Consumption Comb (L/100 km)  \\\n",
       "7380                              7.7                               9.4   \n",
       "7381                              8.3                               9.9   \n",
       "7382                              8.6                              10.3   \n",
       "7383                              8.3                               9.9   \n",
       "7384                              8.7                              10.7   \n",
       "\n",
       "      Fuel Consumption Comb (mpg)  CO2 Emissions(g/km)  \n",
       "7380                           30                  219  \n",
       "7381                           29                  232  \n",
       "7382                           27                  240  \n",
       "7383                           29                  232  \n",
       "7384                           26                  248  "
      ]
     },
     "execution_count": 3,
     "metadata": {},
     "output_type": "execute_result"
    }
   ],
   "source": [
    "# Creating a dataframe\n",
    "transport_df = pd.read_csv(\"Transportation_Dataset.csv\")\n",
    "transport_df.tail(5)"
   ]
  },
  {
   "cell_type": "code",
   "execution_count": 4,
   "id": "cbb9f6cb-eb30-4de8-bcc8-869dc963de6a",
   "metadata": {},
   "outputs": [
    {
     "name": "stdout",
     "output_type": "stream",
     "text": [
      "<class 'pandas.core.frame.DataFrame'>\n",
      "RangeIndex: 7385 entries, 0 to 7384\n",
      "Data columns (total 12 columns):\n",
      " #   Column                     Non-Null Count  Dtype  \n",
      "---  ------                     --------------  -----  \n",
      " 0   make                       7385 non-null   object \n",
      " 1   model                      7385 non-null   object \n",
      " 2   vehicle_class              7385 non-null   object \n",
      " 3   engine_size                7385 non-null   float64\n",
      " 4   cylinders                  7385 non-null   int64  \n",
      " 5   transmission               7385 non-null   object \n",
      " 6   fuel_type                  7385 non-null   object \n",
      " 7   fuel_consumption_city      7385 non-null   float64\n",
      " 8   fuel_consumption_hwy       7385 non-null   float64\n",
      " 9   fuel_consumption_comb      7385 non-null   float64\n",
      " 10  fuel_consumption_comb_mpg  7385 non-null   int64  \n",
      " 11  co2_emissions              7385 non-null   int64  \n",
      "dtypes: float64(4), int64(3), object(5)\n",
      "memory usage: 692.5+ KB\n"
     ]
    }
   ],
   "source": [
    "#Renaming column names\n",
    "transport_df.rename(columns={'Make':'make', 'Model':'model', 'Vehicle Class':'vehicle_class', 'Engine Size(L)':'engine_size', 'Cylinders':'cylinders', 'Transmission':'transmission', 'Fuel Type':'fuel_type','Fuel Consumption City (L/100 km)':'fuel_consumption_city','Fuel Consumption Hwy (L/100 km)':'fuel_consumption_hwy','Fuel Consumption Comb (L/100 km)':'fuel_consumption_comb','Fuel Consumption Comb (mpg)':'fuel_consumption_comb_mpg','CO2 Emissions(g/km)':'co2_emissions'}, inplace=True)\n",
    "\n",
    "#Information about the Dataframe\n",
    "transport_df.info()"
   ]
  },
  {
   "cell_type": "code",
   "execution_count": null,
   "id": "a503754d-6e1f-4bfb-b709-f01eb4b70868",
   "metadata": {},
   "outputs": [],
   "source": []
  },
  {
   "cell_type": "code",
   "execution_count": null,
   "id": "faa47933-66ad-4839-ab02-d98c07b2fea7",
   "metadata": {},
   "outputs": [],
   "source": []
  },
  {
   "cell_type": "code",
   "execution_count": 5,
   "id": "c8849c13-f62e-47b5-84b2-737b712ebf07",
   "metadata": {},
   "outputs": [],
   "source": [
    "# Creating a duplicate of model named as model_grouped to make relevant edits.\n",
    "transport_df.insert(transport_df.columns.get_loc(\"model\") + 1, \"model_grouped\", transport_df[\"model\"])"
   ]
  },
  {
   "cell_type": "code",
   "execution_count": null,
   "id": "43f395d6-55da-4285-9f05-3e5389260e0e",
   "metadata": {},
   "outputs": [],
   "source": []
  },
  {
   "cell_type": "code",
   "execution_count": 6,
   "id": "61460498-7f69-45f5-9e16-74131802005c",
   "metadata": {},
   "outputs": [],
   "source": [
    "# Automatic Grouping..."
   ]
  },
  {
   "cell_type": "code",
   "execution_count": 7,
   "id": "d86dd74e-46cb-4ff2-8b94-2d6511e0f00f",
   "metadata": {},
   "outputs": [],
   "source": [
    "# Creating a Dictonary with Key(Make) and Value(Models) pairs\n",
    "\n",
    "\n",
    "# Create a dictionary with string keys and list values\n",
    "make_model = {\n",
    "    \"FORD\": ['C-MAX', 'E150', 'E350', 'EDGE', 'ESCAPE', 'EXPEDITION', 'EXPLORER', 'F-150', 'FIESTA', 'FLEX', 'FOCUS', 'FUSION', 'MUSTANG', 'TAURUS', 'TRANSIT CONNECT', 'T-150', 'GT', 'ECOSPORT', 'RANGER'],\n",
    "    \"CHEVROLET\": ['CAMARO', 'CORVETTE', 'CRUZE', 'EQUINOX', 'EXPRESS', 'IMPALA', 'MALIBU', 'ORLANDO', 'SILVERADO', 'SONIC', 'SPARK', 'SUBURBAN', 'TAHOE', 'TRAVERSE', 'TRAX', 'COLORADO', 'BLAZER'],\n",
    "    \"PORSCHE\": ['911 CARRERA', '911 GT3', '911 TURBO', 'BOXSTER', 'CAYENNE', 'CAYMAN', 'PANAMERA', '911 TARGA', 'MACAN', '911 GT2', '911 SPEEDSTER'],\n",
    "    \"TOYOTA\" : ['4RUNNER', 'AVALON', 'CAMRY', 'COROLLA', 'FJ CRUISER 4WD', 'HIGHLANDER', 'PRIUS', 'RAV4', 'SEQUOIA', 'SIENNA', 'TACOMA', 'TUNDRA', 'VENZA', 'YARIS', '86', 'C-HR', 'GR SUPRA'],\n",
    "    \"GMC\" : ['ACADIA', 'SAVANA', 'SIERRA', 'TERRAIN', 'YUKON', 'CANYON'],\n",
    "    \"NISSAN\" : ['370Z', 'ALTIMA', 'ARMADA', 'FRONTIER', 'GT-R', 'JUKE', 'MAXIMA', 'MURANO', 'NV200', 'PATHFINDER', 'QUEST', 'ROGUE', 'SENTRA', 'TITAN', 'VERSA', 'XTERRA', 'MICRA', 'QASHQAI', 'KICKS'],\n",
    "    \"JEEP\" : ['CHEROKEE', 'COMPASS', 'PATRIOT', 'WRANGLER', 'RENEGADE', 'GLADIATOR'],\n",
    "    \"DODGE\" : ['AVENGER', 'CHALLENGER', 'CHARGER', 'DART', 'DURANGO', 'CARAVAN', 'JOURNEY', 'VIPER'],\n",
    "    \"KIA\" : ['CADENZA', 'FORTE', 'OPTIMA', 'RIO', 'RONDO', 'SEDONA', 'SORENTO', 'SOUL', 'SPORTAGE', 'K900', 'NIRO', 'STINGER', 'TELLURIDE'],\n",
    "    \"HONDA\" : ['ACCORD', 'CIVIC', 'CROSSTOUR', 'CR-V', 'CR-Z', 'FIT', 'ODYSSEY', 'PILOT', 'RIDGELINE', 'HR-V', 'INSIGHT', 'PASSPORT'],\n",
    "    \"HYUNDAI\" : ['ACCENT', 'ELANTRA', 'EQUUS', 'GENESIS', 'SANTA FE', 'SONATA', 'TUCSON', 'VELOSTER', 'IONIQ', 'KONA', 'PALISADE', 'VENUE'],\n",
    "    \"MINI\" : ['COOPER'],\n",
    "    \"VOLKSWAGEN\" : ['BEETLE', 'CC', 'EOS', 'GOLF', 'JETTA', 'PASSAT', 'ROUTAN', 'TIGUAN', 'TOUAREG', 'ATLAS', 'ARTEON'],\n",
    "    \"MAZDA\" : ['CX-5', 'CX-9', 'MAZDA2', 'MAZDA3', 'MAZDA5', 'MAZDA6', 'MX-5', 'CX-3'],\n",
    "    \"CADILLAC\" : ['ATS', 'CTS', 'ESCALADE', 'SRX', 'XTS', 'CT6', 'XT5', 'XT4', 'CT4', 'CT5', 'XT6'],\n",
    "    \"SUBARU\" : ['BRZ', 'FORESTER', 'IMPREZA', 'LEGACY', 'OUTBACK', 'TRIBECA', 'CROSSTREK', 'WRX', 'ASCENT'],\n",
    "    \"INFINITI\" : ['Q50', 'Q60', 'Q70', 'QX50 AWD', 'QX60', 'QX70', 'QX80', 'QX30'],\n",
    "    \"BUICK\" : ['ENCLAVE', 'ENCORE', 'LACROSSE', 'REGAL', 'VERANO', 'ENVISION'],\n",
    "    \"RAM\" : ['1500', 'CARGO VAN', 'PROMASTER'],\n",
    "    \"LINCOLN\" : ['MKS', 'MKT', 'MKX', 'MKZ', 'NAVIGATOR', 'MKC', 'CONTINENTAL', 'NAUTILUS', 'AVIATOR', 'CORSAIR'],\n",
    "    \"MITSUBISHI\" : ['LANCER', 'MIRAGE', 'OUTLANDER', 'RVR', 'ECLIPSE'],\n",
    "    \"CHRYSLER\" : ['300', '200', 'TOWN & COUNTRY', 'PACIFICA', 'VOYAGER'],\n",
    "    \"LAND ROVER\" : ['LR2', 'LR4', 'RANGE ROVER', 'DISCOVERY'],\n",
    "    \"MASERATI\" : ['GHIBLI', 'GRANTURISMO', 'QUATTROPORTE', 'LEVANTE'],\n",
    "    \"ROLLS-ROYCE\" : ['GHOST', 'PHANTOM', 'WRAITH', 'DAWN', 'CULLINAN'],\n",
    "    \"ASTON MARTIN\" : ['DB9', 'RAPIDE', 'VANTAGE', 'VANQUISH', 'DB11', 'DBS'],\n",
    "    \"BENTLEY\" : ['CONTINENTAL', 'FLYING SPUR', 'MULSANNE', 'BENTAYGA'],\n",
    "    \"LAMBORGHINI\" : ['AVENTADOR', 'GALLARDO', 'HURACAN', 'VENENO', 'URUS'],\n",
    "    \"ALFA ROMEO\" : ['4C', 'GIULIA', 'STELVIO'],\n",
    "    \"GENESIS\" : ['G80', 'G90', 'G70'],\n",
    "    \"SCION\" : ['FR-S', 'iQ', 'tC', 'xB', 'xD', 'iM'],\n",
    "    \"SMART\" : ['FORTWO'],\n",
    "    \"BUGATTI\" : ['CHIRON'],\n",
    "    \"SRT\" : ['VIPER'],\n",
    "    \"VOLVO\" : ['S60', 'S80', 'XC60', 'XC70', 'XC90', 'V60', 'S90', 'V90', 'XC40'],\n",
    "    \"LEXUS\" : ['CT', 'ES', 'GS', 'GX', 'IS', 'LS', 'LX 570', 'RX', 'NX', 'RC', 'LC', 'UX']\n",
    "}\n",
    "\n",
    "for key, value_list in make_model.items():\n",
    "    for value in value_list:\n",
    "        # Grouping Process\n",
    "        transport_df.loc[(transport_df['make'] == key) & \n",
    "                         (transport_df['model_grouped'].str.contains(value, case=False)), 'model_grouped'] = value\n"
   ]
  },
  {
   "cell_type": "code",
   "execution_count": null,
   "id": "08a3c295-ba3c-439a-9e37-3c06c0bf6f37",
   "metadata": {},
   "outputs": [],
   "source": []
  },
  {
   "cell_type": "code",
   "execution_count": 8,
   "id": "086f2082-804d-44ac-bd2e-9ae978a67577",
   "metadata": {},
   "outputs": [
    {
     "ename": "SyntaxError",
     "evalue": "unexpected EOF while parsing (352511287.py, line 1)",
     "output_type": "error",
     "traceback": [
      "\u001b[1;36m  Cell \u001b[1;32mIn[8], line 1\u001b[1;36m\u001b[0m\n\u001b[1;33m    transport_df.inf(\u001b[0m\n\u001b[1;37m                     ^\u001b[0m\n\u001b[1;31mSyntaxError\u001b[0m\u001b[1;31m:\u001b[0m unexpected EOF while parsing\n"
     ]
    }
   ],
   "source": [
    "transport_df.inf("
   ]
  },
  {
   "cell_type": "code",
   "execution_count": null,
   "id": "a332b0ac-f54e-4cac-82bb-27a07d70f3c8",
   "metadata": {},
   "outputs": [],
   "source": []
  },
  {
   "cell_type": "code",
   "execution_count": null,
   "id": "c4ec6c9a-1978-43e3-bb01-84305bba8b8e",
   "metadata": {},
   "outputs": [],
   "source": [
    "# Manual Grouping... (BMW, MERCEDES-BENZ, AUDI, JAGUAR, FIAT, ACURA)"
   ]
  },
  {
   "cell_type": "code",
   "execution_count": null,
   "id": "64df0882-31b1-441b-b52e-fd03f323fc5a",
   "metadata": {},
   "outputs": [],
   "source": [
    "# Original Models\n",
    "transport_df[transport_df['make'] == 'ACURA']['model'].unique()"
   ]
  },
  {
   "cell_type": "code",
   "execution_count": null,
   "id": "d644f9ec-f9e0-4eeb-b142-38240028c802",
   "metadata": {},
   "outputs": [],
   "source": [
    "# Grouping Models one by one and checking\n",
    "transport_df[transport_df['make'] == 'ACURA']['model_grouped'].unique()"
   ]
  },
  {
   "cell_type": "code",
   "execution_count": null,
   "id": "578b752a-8117-4cee-be35-5c03fc46809a",
   "metadata": {},
   "outputs": [],
   "source": [
    "transport_df[(transport_df['make'] == \"ACURA\") & \n",
    "              transport_df['model_grouped'].str.contains(\"cargo\", case=False)]['model_grouped'].value_counts()"
   ]
  },
  {
   "cell_type": "code",
   "execution_count": null,
   "id": "57abea27-d7da-448a-864c-d25949d10a93",
   "metadata": {},
   "outputs": [],
   "source": [
    "# transport_df[transport_df['model_grouped'].str.contains(\"1500\", case=False)]['model_grouped'].value_counts()"
   ]
  },
  {
   "cell_type": "code",
   "execution_count": null,
   "id": "e6ddb56d-7e3e-49db-8442-e5eefebce09c",
   "metadata": {},
   "outputs": [],
   "source": [
    "transport_df[transport_df['model_grouped'].str.contains(\"ILX\", case=False)]['make'].unique()"
   ]
  },
  {
   "cell_type": "code",
   "execution_count": null,
   "id": "24fe857f-3a36-4f7c-86a1-6c5826e163c7",
   "metadata": {},
   "outputs": [],
   "source": [
    "# Grouping Process\n",
    "transport_df.loc[(transport_df['make'] == \"ACURA\") & \n",
    "                 (transport_df['model_grouped'].str.contains(\"760Li\", case=False)), 'model_grouped'] = 'I series'"
   ]
  },
  {
   "cell_type": "code",
   "execution_count": null,
   "id": "86c15aec-5275-49c7-8e42-5bdea73dec1d",
   "metadata": {},
   "outputs": [],
   "source": [
    "# transport_df['model_grouped'].value_counts()"
   ]
  },
  {
   "cell_type": "code",
   "execution_count": null,
   "id": "8efa96b3-7cbc-4146-b082-9d1b0d51a602",
   "metadata": {},
   "outputs": [],
   "source": []
  },
  {
   "cell_type": "code",
   "execution_count": null,
   "id": "01dbcb7d-7b58-4987-8964-815996427568",
   "metadata": {},
   "outputs": [],
   "source": [
    "# Droping the original model and chnaged the grouped model name to model\n",
    "transport_df = transport_df.drop(['model'], axis=1)\n",
    "transport_df.rename(columns={'model_grouped': 'model'}, inplace=True)\n",
    "transport_df"
   ]
  },
  {
   "cell_type": "code",
   "execution_count": null,
   "id": "067a4b58-70bd-4af4-8b45-a97b6e8c4047",
   "metadata": {},
   "outputs": [],
   "source": [
    "transport_df['model'].value_counts()"
   ]
  },
  {
   "cell_type": "code",
   "execution_count": null,
   "id": "4ec4036a-d877-404c-a192-abdf816766b7",
   "metadata": {},
   "outputs": [],
   "source": [
    "# # Writing the Preprocessed transport_df to a CSV file\n",
    "# transport_df.to_csv('categorical_Model_Grouped_Data.csv', index=False)"
   ]
  },
  {
   "cell_type": "code",
   "execution_count": null,
   "id": "846d1d16-3f75-4afb-95aa-621a8b70677e",
   "metadata": {},
   "outputs": [],
   "source": []
  }
 ],
 "metadata": {
  "kernelspec": {
   "display_name": "Python 3 (ipykernel)",
   "language": "python",
   "name": "python3"
  },
  "language_info": {
   "codemirror_mode": {
    "name": "ipython",
    "version": 3
   },
   "file_extension": ".py",
   "mimetype": "text/x-python",
   "name": "python",
   "nbconvert_exporter": "python",
   "pygments_lexer": "ipython3",
   "version": "3.8.18"
  }
 },
 "nbformat": 4,
 "nbformat_minor": 5
}

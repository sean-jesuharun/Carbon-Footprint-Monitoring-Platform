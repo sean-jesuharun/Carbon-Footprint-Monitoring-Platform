{
 "cells": [
  {
   "cell_type": "code",
   "execution_count": 1,
   "id": "9c129b64",
   "metadata": {},
   "outputs": [
    {
     "data": {
      "text/plain": [
       "'C:\\\\Users\\\\SEAN\\\\anaconda3\\\\envs\\\\Carbon_Cloud\\\\python.exe'"
      ]
     },
     "execution_count": 1,
     "metadata": {},
     "output_type": "execute_result"
    }
   ],
   "source": [
    "import sys\n",
    "sys.executable"
   ]
  },
  {
   "cell_type": "code",
   "execution_count": 2,
   "id": "bd70b120-debc-40cf-9223-d2fe65dd6d8a",
   "metadata": {},
   "outputs": [],
   "source": [
    "#Importing required libraries\n",
    "import pandas as pd\n",
    "import numpy as np\n",
    "from matplotlib import pyplot as plt\n",
    "import seaborn as sns"
   ]
  },
  {
   "cell_type": "code",
   "execution_count": 3,
   "id": "36edbde7-9c79-43fc-9bcc-364e66c057f5",
   "metadata": {},
   "outputs": [
    {
     "data": {
      "text/html": [
       "<div>\n",
       "<style scoped>\n",
       "    .dataframe tbody tr th:only-of-type {\n",
       "        vertical-align: middle;\n",
       "    }\n",
       "\n",
       "    .dataframe tbody tr th {\n",
       "        vertical-align: top;\n",
       "    }\n",
       "\n",
       "    .dataframe thead th {\n",
       "        text-align: right;\n",
       "    }\n",
       "</style>\n",
       "<table border=\"1\" class=\"dataframe\">\n",
       "  <thead>\n",
       "    <tr style=\"text-align: right;\">\n",
       "      <th></th>\n",
       "      <th>Make</th>\n",
       "      <th>Model</th>\n",
       "      <th>Vehicle Class</th>\n",
       "      <th>Engine Size(L)</th>\n",
       "      <th>Cylinders</th>\n",
       "      <th>Transmission</th>\n",
       "      <th>Fuel Type</th>\n",
       "      <th>Fuel Consumption City (L/100 km)</th>\n",
       "      <th>Fuel Consumption Hwy (L/100 km)</th>\n",
       "      <th>Fuel Consumption Comb (L/100 km)</th>\n",
       "      <th>Fuel Consumption Comb (mpg)</th>\n",
       "      <th>CO2 Emissions(g/km)</th>\n",
       "    </tr>\n",
       "  </thead>\n",
       "  <tbody>\n",
       "    <tr>\n",
       "      <th>0</th>\n",
       "      <td>ACURA</td>\n",
       "      <td>ILX</td>\n",
       "      <td>COMPACT</td>\n",
       "      <td>2.0</td>\n",
       "      <td>4</td>\n",
       "      <td>AS5</td>\n",
       "      <td>Z</td>\n",
       "      <td>9.9</td>\n",
       "      <td>6.7</td>\n",
       "      <td>8.5</td>\n",
       "      <td>33</td>\n",
       "      <td>196</td>\n",
       "    </tr>\n",
       "    <tr>\n",
       "      <th>1</th>\n",
       "      <td>ACURA</td>\n",
       "      <td>ILX</td>\n",
       "      <td>COMPACT</td>\n",
       "      <td>2.4</td>\n",
       "      <td>4</td>\n",
       "      <td>M6</td>\n",
       "      <td>Z</td>\n",
       "      <td>11.2</td>\n",
       "      <td>7.7</td>\n",
       "      <td>9.6</td>\n",
       "      <td>29</td>\n",
       "      <td>221</td>\n",
       "    </tr>\n",
       "    <tr>\n",
       "      <th>2</th>\n",
       "      <td>ACURA</td>\n",
       "      <td>ILX HYBRID</td>\n",
       "      <td>COMPACT</td>\n",
       "      <td>1.5</td>\n",
       "      <td>4</td>\n",
       "      <td>AV7</td>\n",
       "      <td>Z</td>\n",
       "      <td>6.0</td>\n",
       "      <td>5.8</td>\n",
       "      <td>5.9</td>\n",
       "      <td>48</td>\n",
       "      <td>136</td>\n",
       "    </tr>\n",
       "    <tr>\n",
       "      <th>3</th>\n",
       "      <td>ACURA</td>\n",
       "      <td>MDX 4WD</td>\n",
       "      <td>SUV - SMALL</td>\n",
       "      <td>3.5</td>\n",
       "      <td>6</td>\n",
       "      <td>AS6</td>\n",
       "      <td>Z</td>\n",
       "      <td>12.7</td>\n",
       "      <td>9.1</td>\n",
       "      <td>11.1</td>\n",
       "      <td>25</td>\n",
       "      <td>255</td>\n",
       "    </tr>\n",
       "    <tr>\n",
       "      <th>4</th>\n",
       "      <td>ACURA</td>\n",
       "      <td>RDX AWD</td>\n",
       "      <td>SUV - SMALL</td>\n",
       "      <td>3.5</td>\n",
       "      <td>6</td>\n",
       "      <td>AS6</td>\n",
       "      <td>Z</td>\n",
       "      <td>12.1</td>\n",
       "      <td>8.7</td>\n",
       "      <td>10.6</td>\n",
       "      <td>27</td>\n",
       "      <td>244</td>\n",
       "    </tr>\n",
       "  </tbody>\n",
       "</table>\n",
       "</div>"
      ],
      "text/plain": [
       "    Make       Model Vehicle Class  Engine Size(L)  Cylinders Transmission  \\\n",
       "0  ACURA         ILX       COMPACT             2.0          4          AS5   \n",
       "1  ACURA         ILX       COMPACT             2.4          4           M6   \n",
       "2  ACURA  ILX HYBRID       COMPACT             1.5          4          AV7   \n",
       "3  ACURA     MDX 4WD   SUV - SMALL             3.5          6          AS6   \n",
       "4  ACURA     RDX AWD   SUV - SMALL             3.5          6          AS6   \n",
       "\n",
       "  Fuel Type  Fuel Consumption City (L/100 km)  \\\n",
       "0         Z                               9.9   \n",
       "1         Z                              11.2   \n",
       "2         Z                               6.0   \n",
       "3         Z                              12.7   \n",
       "4         Z                              12.1   \n",
       "\n",
       "   Fuel Consumption Hwy (L/100 km)  Fuel Consumption Comb (L/100 km)  \\\n",
       "0                              6.7                               8.5   \n",
       "1                              7.7                               9.6   \n",
       "2                              5.8                               5.9   \n",
       "3                              9.1                              11.1   \n",
       "4                              8.7                              10.6   \n",
       "\n",
       "   Fuel Consumption Comb (mpg)  CO2 Emissions(g/km)  \n",
       "0                           33                  196  \n",
       "1                           29                  221  \n",
       "2                           48                  136  \n",
       "3                           25                  255  \n",
       "4                           27                  244  "
      ]
     },
     "execution_count": 3,
     "metadata": {},
     "output_type": "execute_result"
    }
   ],
   "source": [
    "#Creating a dataframe\n",
    "transport_df = pd.read_csv(\"C:\\\\Users\\\\SEAN\\\\Desktop\\\\Project\\\\Datasets\\\\CO2_Emissions_Canada.csv\")\n",
    "transport_df.head()"
   ]
  },
  {
   "cell_type": "code",
   "execution_count": 4,
   "id": "55eab54c-3d14-47ff-aefa-bf7f63d69216",
   "metadata": {},
   "outputs": [
    {
     "name": "stdout",
     "output_type": "stream",
     "text": [
      "<class 'pandas.core.frame.DataFrame'>\n",
      "RangeIndex: 7385 entries, 0 to 7384\n",
      "Data columns (total 12 columns):\n",
      " #   Column                     Non-Null Count  Dtype  \n",
      "---  ------                     --------------  -----  \n",
      " 0   make                       7385 non-null   object \n",
      " 1   model                      7385 non-null   object \n",
      " 2   vehicle_class              7385 non-null   object \n",
      " 3   engine_size                7385 non-null   float64\n",
      " 4   cylinders                  7385 non-null   int64  \n",
      " 5   transmission               7385 non-null   object \n",
      " 6   fuel_type                  7385 non-null   object \n",
      " 7   fuel_consumption_city      7385 non-null   float64\n",
      " 8   fuel_consumption_hwy       7385 non-null   float64\n",
      " 9   fuel_consumption_comb      7385 non-null   float64\n",
      " 10  fuel_consumption_comb_mpg  7385 non-null   int64  \n",
      " 11  co2_emissions              7385 non-null   int64  \n",
      "dtypes: float64(4), int64(3), object(5)\n",
      "memory usage: 692.5+ KB\n"
     ]
    }
   ],
   "source": [
    "#Renaming column names\n",
    "transport_df.rename(columns={'Make':'make', 'Model':'model', 'Vehicle Class':'vehicle_class', 'Engine Size(L)':'engine_size', 'Cylinders':'cylinders', 'Transmission':'transmission', 'Fuel Type':'fuel_type','Fuel Consumption City (L/100 km)':'fuel_consumption_city','Fuel Consumption Hwy (L/100 km)':'fuel_consumption_hwy','Fuel Consumption Comb (L/100 km)':'fuel_consumption_comb','Fuel Consumption Comb (mpg)':'fuel_consumption_comb_mpg','CO2 Emissions(g/km)':'co2_emissions'}, inplace=True)\n",
    "\n",
    "#Information about the Dataframe\n",
    "transport_df.info()"
   ]
  },
  {
   "cell_type": "code",
   "execution_count": null,
   "id": "436c42f2-d8bd-46a8-aa36-3e4a43127213",
   "metadata": {},
   "outputs": [],
   "source": []
  },
  {
   "cell_type": "code",
   "execution_count": 5,
   "id": "46c6da47-207d-4e45-af37-0a436a1e81b0",
   "metadata": {},
   "outputs": [],
   "source": [
    "# Qualitative / Categorical Variables :- make, model, vehicle_class, transmission, fuel_type\n",
    "transport_df_qualitative = transport_df.drop(['engine_size','cylinders','fuel_consumption_city', 'fuel_consumption_hwy', 'fuel_consumption_comb', 'fuel_consumption_comb_mpg', 'co2_emissions'], axis=1)\n",
    "\n",
    "# Quantitative Variables              :- engine_size, cylinders, fuel_consumption_city_(L/100 km), fuel_consumption_hwy_(L/100 km), fuel_consumption_comb_(L/100 km), fuel_consumption_comb_(mpg), co2_emissions(g/km)\n",
    "transport_df_quantitative = transport_df.drop(['make','model', 'vehicle_class', 'transmission', 'fuel_type'], axis=1)"
   ]
  },
  {
   "cell_type": "code",
   "execution_count": null,
   "id": "626cb196-2087-4b4d-80ba-254da24e1003",
   "metadata": {},
   "outputs": [],
   "source": []
  },
  {
   "cell_type": "code",
   "execution_count": 6,
   "id": "ac6015f9-24bf-47cf-9bea-af369c283071",
   "metadata": {},
   "outputs": [],
   "source": [
    "from sklearn.model_selection import train_test_split\n",
    "from sklearn.linear_model import LinearRegression\n",
    "from sklearn.metrics import mean_squared_error, r2_score\n",
    "import statsmodels.api as sm\n",
    "from statsmodels.formula.api import ols\n",
    "from scipy.stats import f"
   ]
  },
  {
   "cell_type": "code",
   "execution_count": null,
   "id": "53d1bb59-bc97-4394-9c92-59407359c351",
   "metadata": {},
   "outputs": [],
   "source": []
  },
  {
   "cell_type": "code",
   "execution_count": 7,
   "id": "0901d11b-1b75-4f4b-a40f-7fb3a8ec09c1",
   "metadata": {},
   "outputs": [],
   "source": [
    "# Forward Selection with only Independent Quantitative Variables\n",
    "# For variable to enter the model we set the p_value (Threshold value) to 0.05"
   ]
  },
  {
   "cell_type": "code",
   "execution_count": 8,
   "id": "949b5ecb-9a95-4a3d-9a71-263fabcb0235",
   "metadata": {},
   "outputs": [],
   "source": [
    "# IQV => Independent Quantitative Variables DV => Dependent Variable\n",
    "transport_df_IQV_TO_DV = transport_df_quantitative.drop(['co2_emissions'], axis=1)"
   ]
  },
  {
   "cell_type": "code",
   "execution_count": 9,
   "id": "baf20365-e835-4edd-870c-9e0b6c7cb243",
   "metadata": {},
   "outputs": [
    {
     "ename": "ValueError",
     "evalue": "Could not interpret value `co2_emissions'` for `y`. An entry with this name does not appear in `data`.",
     "output_type": "error",
     "traceback": [
      "\u001b[1;31m---------------------------------------------------------------------------\u001b[0m",
      "\u001b[1;31mValueError\u001b[0m                                Traceback (most recent call last)",
      "Cell \u001b[1;32mIn[9], line 3\u001b[0m\n\u001b[0;32m      1\u001b[0m \u001b[38;5;28;01mfor\u001b[39;00m i \u001b[38;5;129;01min\u001b[39;00m transport_df_IQV_TO_DV\u001b[38;5;241m.\u001b[39mcolumns:\n\u001b[0;32m      2\u001b[0m     plt\u001b[38;5;241m.\u001b[39mfigure(figsize\u001b[38;5;241m=\u001b[39m(\u001b[38;5;241m10\u001b[39m,\u001b[38;5;241m7\u001b[39m))\n\u001b[1;32m----> 3\u001b[0m     \u001b[43msns\u001b[49m\u001b[38;5;241;43m.\u001b[39;49m\u001b[43mscatterplot\u001b[49m\u001b[43m(\u001b[49m\u001b[43mdata\u001b[49m\u001b[38;5;241;43m=\u001b[39;49m\u001b[43mtransport_df_quantitative\u001b[49m\u001b[43m,\u001b[49m\u001b[43m \u001b[49m\u001b[43mx\u001b[49m\u001b[38;5;241;43m=\u001b[39;49m\u001b[43mi\u001b[49m\u001b[43m,\u001b[49m\u001b[43m \u001b[49m\u001b[43my\u001b[49m\u001b[38;5;241;43m=\u001b[39;49m\u001b[38;5;124;43m\"\u001b[39;49m\u001b[38;5;124;43mco2_emissions\u001b[39;49m\u001b[38;5;124;43m'\u001b[39;49m\u001b[38;5;124;43m\"\u001b[39;49m\u001b[43m)\u001b[49m\n\u001b[0;32m      4\u001b[0m     plt\u001b[38;5;241m.\u001b[39mtight_layout()\n",
      "File \u001b[1;32m~\\anaconda3\\envs\\Carbon_Cloud\\lib\\site-packages\\seaborn\\relational.py:615\u001b[0m, in \u001b[0;36mscatterplot\u001b[1;34m(data, x, y, hue, size, style, palette, hue_order, hue_norm, sizes, size_order, size_norm, markers, style_order, legend, ax, **kwargs)\u001b[0m\n\u001b[0;32m    606\u001b[0m \u001b[38;5;28;01mdef\u001b[39;00m \u001b[38;5;21mscatterplot\u001b[39m(\n\u001b[0;32m    607\u001b[0m     data\u001b[38;5;241m=\u001b[39m\u001b[38;5;28;01mNone\u001b[39;00m, \u001b[38;5;241m*\u001b[39m,\n\u001b[0;32m    608\u001b[0m     x\u001b[38;5;241m=\u001b[39m\u001b[38;5;28;01mNone\u001b[39;00m, y\u001b[38;5;241m=\u001b[39m\u001b[38;5;28;01mNone\u001b[39;00m, hue\u001b[38;5;241m=\u001b[39m\u001b[38;5;28;01mNone\u001b[39;00m, size\u001b[38;5;241m=\u001b[39m\u001b[38;5;28;01mNone\u001b[39;00m, style\u001b[38;5;241m=\u001b[39m\u001b[38;5;28;01mNone\u001b[39;00m,\n\u001b[1;32m   (...)\u001b[0m\n\u001b[0;32m    612\u001b[0m     \u001b[38;5;241m*\u001b[39m\u001b[38;5;241m*\u001b[39mkwargs\n\u001b[0;32m    613\u001b[0m ):\n\u001b[1;32m--> 615\u001b[0m     p \u001b[38;5;241m=\u001b[39m \u001b[43m_ScatterPlotter\u001b[49m\u001b[43m(\u001b[49m\n\u001b[0;32m    616\u001b[0m \u001b[43m        \u001b[49m\u001b[43mdata\u001b[49m\u001b[38;5;241;43m=\u001b[39;49m\u001b[43mdata\u001b[49m\u001b[43m,\u001b[49m\n\u001b[0;32m    617\u001b[0m \u001b[43m        \u001b[49m\u001b[43mvariables\u001b[49m\u001b[38;5;241;43m=\u001b[39;49m\u001b[38;5;28;43mdict\u001b[39;49m\u001b[43m(\u001b[49m\u001b[43mx\u001b[49m\u001b[38;5;241;43m=\u001b[39;49m\u001b[43mx\u001b[49m\u001b[43m,\u001b[49m\u001b[43m \u001b[49m\u001b[43my\u001b[49m\u001b[38;5;241;43m=\u001b[39;49m\u001b[43my\u001b[49m\u001b[43m,\u001b[49m\u001b[43m \u001b[49m\u001b[43mhue\u001b[49m\u001b[38;5;241;43m=\u001b[39;49m\u001b[43mhue\u001b[49m\u001b[43m,\u001b[49m\u001b[43m \u001b[49m\u001b[43msize\u001b[49m\u001b[38;5;241;43m=\u001b[39;49m\u001b[43msize\u001b[49m\u001b[43m,\u001b[49m\u001b[43m \u001b[49m\u001b[43mstyle\u001b[49m\u001b[38;5;241;43m=\u001b[39;49m\u001b[43mstyle\u001b[49m\u001b[43m)\u001b[49m\u001b[43m,\u001b[49m\n\u001b[0;32m    618\u001b[0m \u001b[43m        \u001b[49m\u001b[43mlegend\u001b[49m\u001b[38;5;241;43m=\u001b[39;49m\u001b[43mlegend\u001b[49m\n\u001b[0;32m    619\u001b[0m \u001b[43m    \u001b[49m\u001b[43m)\u001b[49m\n\u001b[0;32m    621\u001b[0m     p\u001b[38;5;241m.\u001b[39mmap_hue(palette\u001b[38;5;241m=\u001b[39mpalette, order\u001b[38;5;241m=\u001b[39mhue_order, norm\u001b[38;5;241m=\u001b[39mhue_norm)\n\u001b[0;32m    622\u001b[0m     p\u001b[38;5;241m.\u001b[39mmap_size(sizes\u001b[38;5;241m=\u001b[39msizes, order\u001b[38;5;241m=\u001b[39msize_order, norm\u001b[38;5;241m=\u001b[39msize_norm)\n",
      "File \u001b[1;32m~\\anaconda3\\envs\\Carbon_Cloud\\lib\\site-packages\\seaborn\\relational.py:396\u001b[0m, in \u001b[0;36m_ScatterPlotter.__init__\u001b[1;34m(self, data, variables, legend)\u001b[0m\n\u001b[0;32m    387\u001b[0m \u001b[38;5;28;01mdef\u001b[39;00m \u001b[38;5;21m__init__\u001b[39m(\u001b[38;5;28mself\u001b[39m, \u001b[38;5;241m*\u001b[39m, data\u001b[38;5;241m=\u001b[39m\u001b[38;5;28;01mNone\u001b[39;00m, variables\u001b[38;5;241m=\u001b[39m{}, legend\u001b[38;5;241m=\u001b[39m\u001b[38;5;28;01mNone\u001b[39;00m):\n\u001b[0;32m    388\u001b[0m \n\u001b[0;32m    389\u001b[0m     \u001b[38;5;66;03m# TODO this is messy, we want the mapping to be agnostic about\u001b[39;00m\n\u001b[0;32m    390\u001b[0m     \u001b[38;5;66;03m# the kind of plot to draw, but for the time being we need to set\u001b[39;00m\n\u001b[0;32m    391\u001b[0m     \u001b[38;5;66;03m# this information so the SizeMapping can use it\u001b[39;00m\n\u001b[0;32m    392\u001b[0m     \u001b[38;5;28mself\u001b[39m\u001b[38;5;241m.\u001b[39m_default_size_range \u001b[38;5;241m=\u001b[39m (\n\u001b[0;32m    393\u001b[0m         np\u001b[38;5;241m.\u001b[39mr_[\u001b[38;5;241m.5\u001b[39m, \u001b[38;5;241m2\u001b[39m] \u001b[38;5;241m*\u001b[39m np\u001b[38;5;241m.\u001b[39msquare(mpl\u001b[38;5;241m.\u001b[39mrcParams[\u001b[38;5;124m\"\u001b[39m\u001b[38;5;124mlines.markersize\u001b[39m\u001b[38;5;124m\"\u001b[39m])\n\u001b[0;32m    394\u001b[0m     )\n\u001b[1;32m--> 396\u001b[0m     \u001b[38;5;28;43msuper\u001b[39;49m\u001b[43m(\u001b[49m\u001b[43m)\u001b[49m\u001b[38;5;241;43m.\u001b[39;49m\u001b[38;5;21;43m__init__\u001b[39;49m\u001b[43m(\u001b[49m\u001b[43mdata\u001b[49m\u001b[38;5;241;43m=\u001b[39;49m\u001b[43mdata\u001b[49m\u001b[43m,\u001b[49m\u001b[43m \u001b[49m\u001b[43mvariables\u001b[49m\u001b[38;5;241;43m=\u001b[39;49m\u001b[43mvariables\u001b[49m\u001b[43m)\u001b[49m\n\u001b[0;32m    398\u001b[0m     \u001b[38;5;28mself\u001b[39m\u001b[38;5;241m.\u001b[39mlegend \u001b[38;5;241m=\u001b[39m legend\n",
      "File \u001b[1;32m~\\anaconda3\\envs\\Carbon_Cloud\\lib\\site-packages\\seaborn\\_base.py:634\u001b[0m, in \u001b[0;36mVectorPlotter.__init__\u001b[1;34m(self, data, variables)\u001b[0m\n\u001b[0;32m    629\u001b[0m \u001b[38;5;66;03m# var_ordered is relevant only for categorical axis variables, and may\u001b[39;00m\n\u001b[0;32m    630\u001b[0m \u001b[38;5;66;03m# be better handled by an internal axis information object that tracks\u001b[39;00m\n\u001b[0;32m    631\u001b[0m \u001b[38;5;66;03m# such information and is set up by the scale_* methods. The analogous\u001b[39;00m\n\u001b[0;32m    632\u001b[0m \u001b[38;5;66;03m# information for numeric axes would be information about log scales.\u001b[39;00m\n\u001b[0;32m    633\u001b[0m \u001b[38;5;28mself\u001b[39m\u001b[38;5;241m.\u001b[39m_var_ordered \u001b[38;5;241m=\u001b[39m {\u001b[38;5;124m\"\u001b[39m\u001b[38;5;124mx\u001b[39m\u001b[38;5;124m\"\u001b[39m: \u001b[38;5;28;01mFalse\u001b[39;00m, \u001b[38;5;124m\"\u001b[39m\u001b[38;5;124my\u001b[39m\u001b[38;5;124m\"\u001b[39m: \u001b[38;5;28;01mFalse\u001b[39;00m}  \u001b[38;5;66;03m# alt., used DefaultDict\u001b[39;00m\n\u001b[1;32m--> 634\u001b[0m \u001b[38;5;28;43mself\u001b[39;49m\u001b[38;5;241;43m.\u001b[39;49m\u001b[43massign_variables\u001b[49m\u001b[43m(\u001b[49m\u001b[43mdata\u001b[49m\u001b[43m,\u001b[49m\u001b[43m \u001b[49m\u001b[43mvariables\u001b[49m\u001b[43m)\u001b[49m\n\u001b[0;32m    636\u001b[0m \u001b[38;5;66;03m# TODO Lots of tests assume that these are called to initialize the\u001b[39;00m\n\u001b[0;32m    637\u001b[0m \u001b[38;5;66;03m# mappings to default values on class initialization. I'd prefer to\u001b[39;00m\n\u001b[0;32m    638\u001b[0m \u001b[38;5;66;03m# move away from that and only have a mapping when explicitly called.\u001b[39;00m\n\u001b[0;32m    639\u001b[0m \u001b[38;5;28;01mfor\u001b[39;00m var \u001b[38;5;129;01min\u001b[39;00m [\u001b[38;5;124m\"\u001b[39m\u001b[38;5;124mhue\u001b[39m\u001b[38;5;124m\"\u001b[39m, \u001b[38;5;124m\"\u001b[39m\u001b[38;5;124msize\u001b[39m\u001b[38;5;124m\"\u001b[39m, \u001b[38;5;124m\"\u001b[39m\u001b[38;5;124mstyle\u001b[39m\u001b[38;5;124m\"\u001b[39m]:\n",
      "File \u001b[1;32m~\\anaconda3\\envs\\Carbon_Cloud\\lib\\site-packages\\seaborn\\_base.py:679\u001b[0m, in \u001b[0;36mVectorPlotter.assign_variables\u001b[1;34m(self, data, variables)\u001b[0m\n\u001b[0;32m    674\u001b[0m \u001b[38;5;28;01melse\u001b[39;00m:\n\u001b[0;32m    675\u001b[0m     \u001b[38;5;66;03m# When dealing with long-form input, use the newer PlotData\u001b[39;00m\n\u001b[0;32m    676\u001b[0m     \u001b[38;5;66;03m# object (internal but introduced for the objects interface)\u001b[39;00m\n\u001b[0;32m    677\u001b[0m     \u001b[38;5;66;03m# to centralize / standardize data consumption logic.\u001b[39;00m\n\u001b[0;32m    678\u001b[0m     \u001b[38;5;28mself\u001b[39m\u001b[38;5;241m.\u001b[39minput_format \u001b[38;5;241m=\u001b[39m \u001b[38;5;124m\"\u001b[39m\u001b[38;5;124mlong\u001b[39m\u001b[38;5;124m\"\u001b[39m\n\u001b[1;32m--> 679\u001b[0m     plot_data \u001b[38;5;241m=\u001b[39m \u001b[43mPlotData\u001b[49m\u001b[43m(\u001b[49m\u001b[43mdata\u001b[49m\u001b[43m,\u001b[49m\u001b[43m \u001b[49m\u001b[43mvariables\u001b[49m\u001b[43m)\u001b[49m\n\u001b[0;32m    680\u001b[0m     frame \u001b[38;5;241m=\u001b[39m plot_data\u001b[38;5;241m.\u001b[39mframe\n\u001b[0;32m    681\u001b[0m     names \u001b[38;5;241m=\u001b[39m plot_data\u001b[38;5;241m.\u001b[39mnames\n",
      "File \u001b[1;32m~\\anaconda3\\envs\\Carbon_Cloud\\lib\\site-packages\\seaborn\\_core\\data.py:58\u001b[0m, in \u001b[0;36mPlotData.__init__\u001b[1;34m(self, data, variables)\u001b[0m\n\u001b[0;32m     51\u001b[0m \u001b[38;5;28;01mdef\u001b[39;00m \u001b[38;5;21m__init__\u001b[39m(\n\u001b[0;32m     52\u001b[0m     \u001b[38;5;28mself\u001b[39m,\n\u001b[0;32m     53\u001b[0m     data: DataSource,\n\u001b[0;32m     54\u001b[0m     variables: \u001b[38;5;28mdict\u001b[39m[\u001b[38;5;28mstr\u001b[39m, VariableSpec],\n\u001b[0;32m     55\u001b[0m ):\n\u001b[0;32m     57\u001b[0m     data \u001b[38;5;241m=\u001b[39m handle_data_source(data)\n\u001b[1;32m---> 58\u001b[0m     frame, names, ids \u001b[38;5;241m=\u001b[39m \u001b[38;5;28;43mself\u001b[39;49m\u001b[38;5;241;43m.\u001b[39;49m\u001b[43m_assign_variables\u001b[49m\u001b[43m(\u001b[49m\u001b[43mdata\u001b[49m\u001b[43m,\u001b[49m\u001b[43m \u001b[49m\u001b[43mvariables\u001b[49m\u001b[43m)\u001b[49m\n\u001b[0;32m     60\u001b[0m     \u001b[38;5;28mself\u001b[39m\u001b[38;5;241m.\u001b[39mframe \u001b[38;5;241m=\u001b[39m frame\n\u001b[0;32m     61\u001b[0m     \u001b[38;5;28mself\u001b[39m\u001b[38;5;241m.\u001b[39mnames \u001b[38;5;241m=\u001b[39m names\n",
      "File \u001b[1;32m~\\anaconda3\\envs\\Carbon_Cloud\\lib\\site-packages\\seaborn\\_core\\data.py:232\u001b[0m, in \u001b[0;36mPlotData._assign_variables\u001b[1;34m(self, data, variables)\u001b[0m\n\u001b[0;32m    230\u001b[0m     \u001b[38;5;28;01melse\u001b[39;00m:\n\u001b[0;32m    231\u001b[0m         err \u001b[38;5;241m+\u001b[39m\u001b[38;5;241m=\u001b[39m \u001b[38;5;124m\"\u001b[39m\u001b[38;5;124mAn entry with this name does not appear in `data`.\u001b[39m\u001b[38;5;124m\"\u001b[39m\n\u001b[1;32m--> 232\u001b[0m     \u001b[38;5;28;01mraise\u001b[39;00m \u001b[38;5;167;01mValueError\u001b[39;00m(err)\n\u001b[0;32m    234\u001b[0m \u001b[38;5;28;01melse\u001b[39;00m:\n\u001b[0;32m    235\u001b[0m \n\u001b[0;32m    236\u001b[0m     \u001b[38;5;66;03m# Otherwise, assume the value somehow represents data\u001b[39;00m\n\u001b[0;32m    237\u001b[0m \n\u001b[0;32m    238\u001b[0m     \u001b[38;5;66;03m# Ignore empty data structures\u001b[39;00m\n\u001b[0;32m    239\u001b[0m     \u001b[38;5;28;01mif\u001b[39;00m \u001b[38;5;28misinstance\u001b[39m(val, Sized) \u001b[38;5;129;01mand\u001b[39;00m \u001b[38;5;28mlen\u001b[39m(val) \u001b[38;5;241m==\u001b[39m \u001b[38;5;241m0\u001b[39m:\n",
      "\u001b[1;31mValueError\u001b[0m: Could not interpret value `co2_emissions'` for `y`. An entry with this name does not appear in `data`."
     ]
    },
    {
     "data": {
      "text/plain": [
       "<Figure size 1000x700 with 0 Axes>"
      ]
     },
     "metadata": {},
     "output_type": "display_data"
    }
   ],
   "source": [
    "for i in transport_df_IQV_TO_DV.columns:\n",
    "    plt.figure(figsize=(10,7))\n",
    "    sns.scatterplot(data=transport_df_quantitative, x=i, y=co2_emissions'\")\n",
    "    plt.tight_layout()"
   ]
  },
  {
   "cell_type": "code",
   "execution_count": null,
   "id": "e9bdc78a-452c-4e69-86c9-fc5ac33571c8",
   "metadata": {},
   "outputs": [],
   "source": [
    "def create_ANOVA(formula):\n",
    "\n",
    "    # Fit the model using the formula\n",
    "    model = ols(formula, data=transport_df_quantitative).fit()\n",
    "    \n",
    "    # Define the sum of squares for each source of variation\n",
    "    SS_reg = np.sum((model.fittedvalues - np.mean(transport_df_quantitative['co2_emissions']))**2)  # Regression sum of squares\n",
    "    SS_res = np.sum(model.resid**2)  # Residual sum of squares\n",
    "    SS_tot = SS_reg + SS_res  # Total sum of squares\n",
    "    \n",
    "    # Calculate degrees of freedom\n",
    "    n_obs = len(transport_df_quantitative)  # Number of observations\n",
    "    k_params = len(model.params) - 1  # Number of parameters (excluding intercept)\n",
    "    df_reg = k_params  # Degrees of freedom for regression\n",
    "    df_res = n_obs - k_params - 1  # Degrees of freedom for residual\n",
    "    df_tot = n_obs - 1  # Total degrees of freedom\n",
    "    \n",
    "    # Calculate mean squares\n",
    "    MS_reg = SS_reg / df_reg  # Mean square for regression\n",
    "    MS_res = SS_res / df_res  # Mean square for residual\n",
    "    \n",
    "    # Calculate F-value\n",
    "    F_value = MS_reg / MS_res\n",
    "    \n",
    "    # Calculate p-value\n",
    "    from scipy.stats import f\n",
    "    p_value = 1 - f.cdf(F_value, df_reg, df_res)\n",
    "    \n",
    "    # Create the ANOVA table\n",
    "    anova_table_manual = pd.DataFrame({\n",
    "        '': ['Regression', 'Residual', 'Total'],\n",
    "        'SS': [SS_reg, SS_res, SS_tot],\n",
    "        'DF': [df_reg, df_res, df_tot],\n",
    "        'MS': [MS_reg, MS_res, np.nan],  # No mean square for total row\n",
    "        'F': [F_value, np.nan, np.nan],  # No F-value for total row\n",
    "        'Pr(>F)': [p_value, np.nan, np.nan]  # No p-value for total row\n",
    "    })\n",
    "    \n",
    "    # Print the ANOVA table\n",
    "    print(anova_table_manual)\n",
    "\n",
    "    return SS_res, MS_res, df_res\n",
    "\n",
    "def F_test(low_feature_SSE, SS_res, MS_res, features_added):\n",
    "    f_test = ((low_feature_SSE - SS_res) / features_added) / MS_res\n",
    "    print(\"f_test:\", f_test)\n",
    "    return f_test\n",
    "\n",
    "def P_value(f_test, features_added, df_res):\n",
    "    # Calculate the right-tailed F probability distribution\n",
    "    probability = 1 - f.cdf(f_test, features_added, df_res)\n",
    "    print(\"p_value:\", probability)\n",
    "    "
   ]
  },
  {
   "cell_type": "code",
   "execution_count": null,
   "id": "3569ff56-5a57-40cb-b70b-a055aca7a52a",
   "metadata": {},
   "outputs": [],
   "source": []
  },
  {
   "cell_type": "code",
   "execution_count": null,
   "id": "5e9dc53a-c9db-4a29-935a-968ff24982bc",
   "metadata": {},
   "outputs": [],
   "source": [
    "for i in transport_df_IQV_TO_DV.columns:\n",
    "    formula = f'co2_emissions ~ {i}'\n",
    "    print(formula)\n",
    "    create_ANOVA(formula)\n",
    "    print()"
   ]
  },
  {
   "cell_type": "code",
   "execution_count": null,
   "id": "de79d90d-f85e-4cf0-986b-46c3fd0747dc",
   "metadata": {},
   "outputs": [],
   "source": [
    "# So here the selected feature is \"fuel_consumption_city\"\n",
    "\n",
    "# Construct the formula string dynamically\n",
    "formula = f'co2_emissions ~ fuel_consumption_city'\n",
    "\n",
    "# Fit the model using the formula\n",
    "model = ols(formula, data=transport_df_quantitative).fit()\n",
    "# Perform ANOVA analysis\n",
    "anova_table = sm.stats.anova_lm(model, typ=2)\n",
    "low_feature_SSE = anova_table.sum_sq['Residual']\n",
    "print(\"low_feature_SSE : \", low_feature_SSE)\n",
    "print()\n",
    "print(anova_table)\n",
    "print()"
   ]
  },
  {
   "cell_type": "code",
   "execution_count": null,
   "id": "8d151d60-5648-4d89-be12-269f4f9255d3",
   "metadata": {},
   "outputs": [],
   "source": []
  },
  {
   "cell_type": "code",
   "execution_count": null,
   "id": "1b356bc9-928b-4898-9608-c96929f31179",
   "metadata": {},
   "outputs": [],
   "source": [
    "for i in transport_df_IQV_TO_DV.columns:\n",
    "    formula = f'co2_emissions ~ fuel_consumption_city + {i}'\n",
    "    print(formula)\n",
    "    SS_res, MS_res, df_res = create_ANOVA(formula)\n",
    "    print('SSE reduction : ' , (low_feature_SSE - SS_res))\n",
    "    f_test = F_test(low_feature_SSE, SS_res, MS_res, 1)\n",
    "    P_value(f_test, 1, df_res)\n",
    "    print()"
   ]
  },
  {
   "cell_type": "code",
   "execution_count": null,
   "id": "c4203f3a-e101-4cbf-b07d-892e6f0cee04",
   "metadata": {},
   "outputs": [],
   "source": [
    "# So here the selected feature are \"fuel_consumption_city + cylinders\"\n",
    "\n",
    "# Construct the formula string dynamically\n",
    "formula = f'co2_emissions ~ fuel_consumption_city + cylinders'\n",
    "\n",
    "# Fit the model using the formula\n",
    "model = ols(formula, data=transport_df_quantitative).fit()\n",
    "# Perform ANOVA analysis\n",
    "anova_table = sm.stats.anova_lm(model, typ=2)\n",
    "low_feature_SSE = anova_table.sum_sq['Residual']\n",
    "print(\"low_feature_SSE : \", low_feature_SSE)\n",
    "print()\n",
    "print(anova_table)"
   ]
  },
  {
   "cell_type": "code",
   "execution_count": null,
   "id": "a07d1452-7a0c-4b4b-aa16-03fc57517cd6",
   "metadata": {},
   "outputs": [],
   "source": []
  },
  {
   "cell_type": "code",
   "execution_count": null,
   "id": "0fdc0fce-2edb-4857-aa02-05719276f030",
   "metadata": {},
   "outputs": [],
   "source": [
    "for i in transport_df_IQV_TO_DV.columns:\n",
    "    formula = f'co2_emissions ~ fuel_consumption_city + cylinders + {i}'\n",
    "    print(formula)\n",
    "    SS_res, MS_res, df_res = create_ANOVA(formula)\n",
    "    print('SSE reduction : ' , (low_feature_SSE - SS_res))\n",
    "    f_test = F_test(low_feature_SSE, SS_res, MS_res, 1)\n",
    "    P_value(f_test, 1, df_res)\n",
    "    print()"
   ]
  },
  {
   "cell_type": "code",
   "execution_count": null,
   "id": "813b2ac1-e86d-4748-ad6a-e28a25b5af59",
   "metadata": {},
   "outputs": [],
   "source": [
    "# So here the selected feature are \"fuel_consumption_city + cylinders + fuel_consumption_comb_mpg\"\n",
    "\n",
    "# Construct the formula string dynamically\n",
    "formula = f'co2_emissions ~ fuel_consumption_city + cylinders + fuel_consumption_comb_mpg'\n",
    "\n",
    "# Fit the model using the formula\n",
    "model = ols(formula, data=transport_df_quantitative).fit()\n",
    "# Perform ANOVA analysis\n",
    "anova_table = sm.stats.anova_lm(model, typ=2)\n",
    "low_feature_SSE = anova_table.sum_sq['Residual']\n",
    "print(\"low_feature_SSE : \", low_feature_SSE)\n",
    "print()\n",
    "print(anova_table)"
   ]
  },
  {
   "cell_type": "code",
   "execution_count": null,
   "id": "0da2690c-ef00-4e5d-9c99-e88945778c31",
   "metadata": {},
   "outputs": [],
   "source": []
  },
  {
   "cell_type": "code",
   "execution_count": null,
   "id": "575c6914-681e-46c3-84a6-2468c8729a70",
   "metadata": {},
   "outputs": [],
   "source": [
    "for i in transport_df_IQV_TO_DV.columns:\n",
    "    formula = f'co2_emissions ~ fuel_consumption_city + cylinders + fuel_consumption_comb_mpg + {i}'\n",
    "    print(formula)\n",
    "    SS_res, MS_res, df_res = create_ANOVA(formula)\n",
    "    print('SSE reduction : ' , (low_feature_SSE - SS_res))\n",
    "    f_test = F_test(low_feature_SSE, SS_res, MS_res, 1)\n",
    "    P_value(f_test, 1, df_res)\n",
    "    print()"
   ]
  },
  {
   "cell_type": "code",
   "execution_count": null,
   "id": "aef5a074-8c66-4f31-bb76-55ee8f3ad25e",
   "metadata": {},
   "outputs": [],
   "source": [
    "# So here the selected feature are \"fuel_consumption_city + cylinders + fuel_consumption_comb_mpg + fuel_consumption_hwy\"\n",
    "\n",
    "# Construct the formula string dynamically\n",
    "formula = f'co2_emissions ~ fuel_consumption_city + cylinders + fuel_consumption_comb_mpg + fuel_consumption_hwy'\n",
    "\n",
    "# Fit the model using the formula\n",
    "model = ols(formula, data=transport_df_quantitative).fit()\n",
    "# Perform ANOVA analysis\n",
    "anova_table = sm.stats.anova_lm(model, typ=2)\n",
    "low_feature_SSE = anova_table.sum_sq['Residual']\n",
    "print(\"low_feature_SSE : \", low_feature_SSE)\n",
    "print()\n",
    "print(anova_table)"
   ]
  },
  {
   "cell_type": "code",
   "execution_count": null,
   "id": "c84ed26f-daf8-4b5a-9593-fed8eb2bbc1e",
   "metadata": {},
   "outputs": [],
   "source": []
  },
  {
   "cell_type": "code",
   "execution_count": null,
   "id": "ded04fa1-d0ff-499d-a380-48fc0cca5637",
   "metadata": {},
   "outputs": [],
   "source": [
    "for i in transport_df_IQV_TO_DV.columns:\n",
    "    formula = f'co2_emissions ~ fuel_consumption_city + cylinders + fuel_consumption_comb_mpg + fuel_consumption_hwy + {i}'\n",
    "    print(formula)\n",
    "    SS_res, MS_res, df_res = create_ANOVA(formula)\n",
    "    print('SSE reduction : ' , (low_feature_SSE - SS_res))\n",
    "    f_test = F_test(low_feature_SSE, SS_res, MS_res, 1)\n",
    "    P_value(f_test, 1, df_res)\n",
    "    print()"
   ]
  },
  {
   "cell_type": "code",
   "execution_count": null,
   "id": "bf094079-eefa-441b-9017-7b7037e2e79b",
   "metadata": {},
   "outputs": [],
   "source": [
    "# So here the selected feature are \"fuel_consumption_city + cylinders + fuel_consumption_comb_mpg + fuel_consumption_hwy + engine_size\"\n",
    "\n",
    "# Construct the formula string dynamically\n",
    "formula = f'co2_emissions ~ fuel_consumption_city + cylinders + fuel_consumption_comb_mpg + fuel_consumption_hwy + engine_size'\n",
    "\n",
    "# Fit the model using the formula\n",
    "model = ols(formula, data=transport_df_quantitative).fit()\n",
    "# Perform ANOVA analysis\n",
    "anova_table = sm.stats.anova_lm(model, typ=2)\n",
    "low_feature_SSE = anova_table.sum_sq['Residual']\n",
    "print(\"low_feature_SSE : \", low_feature_SSE)\n",
    "print()\n",
    "print(anova_table)"
   ]
  },
  {
   "cell_type": "code",
   "execution_count": null,
   "id": "09613bb0-8a3b-411a-a970-83084a1a4d6c",
   "metadata": {},
   "outputs": [],
   "source": []
  },
  {
   "cell_type": "code",
   "execution_count": null,
   "id": "b1fcf8bb-4a29-4bf7-a361-2984b011d6d4",
   "metadata": {},
   "outputs": [],
   "source": [
    "for i in transport_df_IQV_TO_DV.columns:\n",
    "    formula = f'co2_emissions ~ fuel_consumption_city + cylinders + fuel_consumption_comb_mpg + fuel_consumption_hwy + engine_size + {i}'\n",
    "    print(formula)\n",
    "    SS_res, MS_res, df_res = create_ANOVA(formula)\n",
    "    print('SSE reduction : ' , (low_feature_SSE - SS_res))\n",
    "    f_test = F_test(low_feature_SSE, SS_res, MS_res, 1)\n",
    "    P_value(f_test, 1, df_res)\n",
    "    print()"
   ]
  },
  {
   "cell_type": "code",
   "execution_count": null,
   "id": "8957ebeb-cd9d-4836-bd7a-148cd3d593f1",
   "metadata": {},
   "outputs": [],
   "source": [
    "# Since we will stop add here because if we add \"fuel_consumption_comb\" Then the p value will be 0.736 so it is greater threshold_value 0.5 so we won't be adding \"fuel_consumption_comb\""
   ]
  },
  {
   "cell_type": "code",
   "execution_count": null,
   "id": "0c2cd6a2-6cf1-4729-8268-27a7359ff74c",
   "metadata": {},
   "outputs": [],
   "source": [
    "anova_table"
   ]
  },
  {
   "cell_type": "code",
   "execution_count": null,
   "id": "f5cf7c5f-eab6-4a1b-976e-bc1384dba1a4",
   "metadata": {},
   "outputs": [],
   "source": [
    "model.summary()"
   ]
  },
  {
   "cell_type": "code",
   "execution_count": null,
   "id": "d7a402ea-9699-47eb-93ac-f0e5a991ba34",
   "metadata": {},
   "outputs": [],
   "source": []
  },
  {
   "cell_type": "code",
   "execution_count": null,
   "id": "1a8bc64a-41ed-4adf-b41b-381000f3232e",
   "metadata": {},
   "outputs": [],
   "source": []
  }
 ],
 "metadata": {
  "kernelspec": {
   "display_name": "Python 3 (ipykernel)",
   "language": "python",
   "name": "python3"
  },
  "language_info": {
   "codemirror_mode": {
    "name": "ipython",
    "version": 3
   },
   "file_extension": ".py",
   "mimetype": "text/x-python",
   "name": "python",
   "nbconvert_exporter": "python",
   "pygments_lexer": "ipython3",
   "version": "3.8.18"
  }
 },
 "nbformat": 4,
 "nbformat_minor": 5
}

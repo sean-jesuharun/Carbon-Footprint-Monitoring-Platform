{
 "cells": [
  {
   "cell_type": "code",
   "execution_count": 1,
   "id": "ac12716d-9fda-405a-bb7a-6c942063c9d2",
   "metadata": {},
   "outputs": [
    {
     "data": {
      "text/plain": [
       "'C:\\\\Users\\\\SEAN\\\\anaconda3\\\\envs\\\\Carbon_Cloud\\\\python.exe'"
      ]
     },
     "execution_count": 1,
     "metadata": {},
     "output_type": "execute_result"
    }
   ],
   "source": [
    "import sys\n",
    "sys.executable"
   ]
  },
  {
   "cell_type": "code",
   "execution_count": 2,
   "id": "3d8c0073-fb54-4b1d-b77c-245f5cf06e5f",
   "metadata": {},
   "outputs": [],
   "source": [
    "# Importing required libraries\n",
    "import pandas as pd\n",
    "import numpy as np\n",
    "from matplotlib import pyplot as plt\n",
    "import seaborn as sns"
   ]
  },
  {
   "cell_type": "code",
   "execution_count": 3,
   "id": "b767c3e9-02e4-4e61-b75e-b3ad45a85ba2",
   "metadata": {},
   "outputs": [
    {
     "data": {
      "text/html": [
       "<div>\n",
       "<style scoped>\n",
       "    .dataframe tbody tr th:only-of-type {\n",
       "        vertical-align: middle;\n",
       "    }\n",
       "\n",
       "    .dataframe tbody tr th {\n",
       "        vertical-align: top;\n",
       "    }\n",
       "\n",
       "    .dataframe thead th {\n",
       "        text-align: right;\n",
       "    }\n",
       "</style>\n",
       "<table border=\"1\" class=\"dataframe\">\n",
       "  <thead>\n",
       "    <tr style=\"text-align: right;\">\n",
       "      <th></th>\n",
       "      <th>make</th>\n",
       "      <th>model</th>\n",
       "      <th>vehicle_class</th>\n",
       "      <th>engine_size</th>\n",
       "      <th>cylinders</th>\n",
       "      <th>fuel_type</th>\n",
       "      <th>fuel_consumption_comb</th>\n",
       "      <th>co2_emissions</th>\n",
       "    </tr>\n",
       "  </thead>\n",
       "  <tbody>\n",
       "    <tr>\n",
       "      <th>7379</th>\n",
       "      <td>230.057076</td>\n",
       "      <td>244.834960</td>\n",
       "      <td>3</td>\n",
       "      <td>2.0</td>\n",
       "      <td>4</td>\n",
       "      <td>3</td>\n",
       "      <td>9.4</td>\n",
       "      <td>219</td>\n",
       "    </tr>\n",
       "    <tr>\n",
       "      <th>7380</th>\n",
       "      <td>230.057076</td>\n",
       "      <td>246.141748</td>\n",
       "      <td>3</td>\n",
       "      <td>2.0</td>\n",
       "      <td>4</td>\n",
       "      <td>3</td>\n",
       "      <td>9.9</td>\n",
       "      <td>232</td>\n",
       "    </tr>\n",
       "    <tr>\n",
       "      <th>7381</th>\n",
       "      <td>230.057076</td>\n",
       "      <td>246.141748</td>\n",
       "      <td>3</td>\n",
       "      <td>2.0</td>\n",
       "      <td>4</td>\n",
       "      <td>3</td>\n",
       "      <td>10.3</td>\n",
       "      <td>240</td>\n",
       "    </tr>\n",
       "    <tr>\n",
       "      <th>7382</th>\n",
       "      <td>230.057076</td>\n",
       "      <td>248.147976</td>\n",
       "      <td>6</td>\n",
       "      <td>2.0</td>\n",
       "      <td>4</td>\n",
       "      <td>3</td>\n",
       "      <td>9.9</td>\n",
       "      <td>232</td>\n",
       "    </tr>\n",
       "    <tr>\n",
       "      <th>7383</th>\n",
       "      <td>230.057076</td>\n",
       "      <td>248.147976</td>\n",
       "      <td>6</td>\n",
       "      <td>2.0</td>\n",
       "      <td>4</td>\n",
       "      <td>3</td>\n",
       "      <td>10.7</td>\n",
       "      <td>248</td>\n",
       "    </tr>\n",
       "  </tbody>\n",
       "</table>\n",
       "</div>"
      ],
      "text/plain": [
       "            make       model  vehicle_class  engine_size  cylinders  \\\n",
       "7379  230.057076  244.834960              3          2.0          4   \n",
       "7380  230.057076  246.141748              3          2.0          4   \n",
       "7381  230.057076  246.141748              3          2.0          4   \n",
       "7382  230.057076  248.147976              6          2.0          4   \n",
       "7383  230.057076  248.147976              6          2.0          4   \n",
       "\n",
       "      fuel_type  fuel_consumption_comb  co2_emissions  \n",
       "7379          3                    9.4            219  \n",
       "7380          3                    9.9            232  \n",
       "7381          3                   10.3            240  \n",
       "7382          3                    9.9            232  \n",
       "7383          3                   10.7            248  "
      ]
     },
     "execution_count": 3,
     "metadata": {},
     "output_type": "execute_result"
    }
   ],
   "source": [
    "# Creating a dataframe\n",
    "transport_df = pd.read_csv(\"Transportation_Target_Label_Encoded_Dataset.csv\")\n",
    "transport_df.tail()"
   ]
  },
  {
   "cell_type": "code",
   "execution_count": 4,
   "id": "d4a2e1bc-1906-4f2d-a2e3-304987cece3f",
   "metadata": {},
   "outputs": [
    {
     "name": "stdout",
     "output_type": "stream",
     "text": [
      "<class 'pandas.core.frame.DataFrame'>\n",
      "RangeIndex: 7384 entries, 0 to 7383\n",
      "Data columns (total 8 columns):\n",
      " #   Column                 Non-Null Count  Dtype  \n",
      "---  ------                 --------------  -----  \n",
      " 0   make                   7384 non-null   float64\n",
      " 1   model                  7384 non-null   float64\n",
      " 2   vehicle_class          7384 non-null   int64  \n",
      " 3   engine_size            7384 non-null   float64\n",
      " 4   cylinders              7384 non-null   int64  \n",
      " 5   fuel_type              7384 non-null   int64  \n",
      " 6   fuel_consumption_comb  7384 non-null   float64\n",
      " 7   co2_emissions          7384 non-null   int64  \n",
      "dtypes: float64(4), int64(4)\n",
      "memory usage: 461.6 KB\n"
     ]
    }
   ],
   "source": [
    "transport_df.info()"
   ]
  },
  {
   "cell_type": "code",
   "execution_count": null,
   "id": "92952569-5141-4bd8-a908-9e0f8ae83c8a",
   "metadata": {},
   "outputs": [],
   "source": []
  },
  {
   "cell_type": "code",
   "execution_count": 5,
   "id": "5f3df25b-9b1b-48ed-9834-b344efc35bcc",
   "metadata": {},
   "outputs": [],
   "source": [
    "from sklearn.model_selection import train_test_split\n",
    "from sklearn.linear_model import LinearRegression\n",
    "from sklearn.metrics import mean_squared_error, r2_score\n",
    "import statsmodels.api as sm\n",
    "from statsmodels.formula.api import ols\n",
    "from scipy.stats import f"
   ]
  },
  {
   "cell_type": "code",
   "execution_count": null,
   "id": "403f025f-5042-4e4f-930a-92ee8dc2d1e9",
   "metadata": {},
   "outputs": [],
   "source": []
  },
  {
   "cell_type": "code",
   "execution_count": 6,
   "id": "f60c0f8f-79fa-4c68-8b13-f3e0115eea48",
   "metadata": {},
   "outputs": [],
   "source": [
    "# Split the dataset into training and testing sets\n",
    "train_df, test_df = train_test_split(transport_df, test_size=0.2, random_state=42)"
   ]
  },
  {
   "cell_type": "code",
   "execution_count": null,
   "id": "0de9340f-01e9-4126-a801-4f4fb5af0f45",
   "metadata": {},
   "outputs": [],
   "source": []
  },
  {
   "cell_type": "code",
   "execution_count": 7,
   "id": "5a30e4d5-ea35-4b8a-8549-2dfead41751d",
   "metadata": {},
   "outputs": [],
   "source": [
    "# Forward Selection with only Independent Variables\n",
    "# For variable to enter the model we set the p_value (Threshold value) to 0.05"
   ]
  },
  {
   "cell_type": "code",
   "execution_count": 8,
   "id": "0cf1d118-b0be-45fa-9437-046c925f37bb",
   "metadata": {},
   "outputs": [],
   "source": [
    "# IQV => Independent Variables, DV => Dependent Variable\n",
    "transport_df_IV_TO_DV = transport_df.drop(['co2_emissions'], axis=1)"
   ]
  },
  {
   "cell_type": "code",
   "execution_count": 9,
   "id": "cd07f5f3-f46a-46b2-a53c-760a465e2add",
   "metadata": {},
   "outputs": [],
   "source": [
    "def create_ANOVA(formula):\n",
    "\n",
    "    # Fit the model using the formula\n",
    "    model = ols(formula, data=train_df).fit()\n",
    "    \n",
    "    # Define the sum of squares for each source of variation\n",
    "    SS_reg = np.sum((model.fittedvalues - np.mean(train_df['co2_emissions']))**2)  # Regression sum of squares\n",
    "    SS_res = np.sum(model.resid**2)  # Residual sum of squares\n",
    "    SS_tot = SS_reg + SS_res  # Total sum of squares\n",
    "    \n",
    "    # Calculate degrees of freedom\n",
    "    n_obs = len(train_df)  # Number of observations\n",
    "    k_params = len(model.params) - 1  # Number of parameters (excluding intercept)\n",
    "    df_reg = k_params  # Degrees of freedom for regression\n",
    "    df_res = n_obs - k_params - 1  # Degrees of freedom for residual\n",
    "    df_tot = n_obs - 1  # Total degrees of freedom\n",
    "    \n",
    "    # Calculate mean squares\n",
    "    MS_reg = SS_reg / df_reg  # Mean square for regression\n",
    "    MS_res = SS_res / df_res  # Mean square for residual\n",
    "    \n",
    "    # Calculate F-value\n",
    "    F_value = MS_reg / MS_res\n",
    "    \n",
    "    # Calculate p-value\n",
    "    from scipy.stats import f\n",
    "    p_value = 1 - f.cdf(F_value, df_reg, df_res)\n",
    "    \n",
    "    # Create the ANOVA table\n",
    "    anova_table_manual = pd.DataFrame({\n",
    "        '': ['Regression', 'Residual', 'Total'],\n",
    "        'SS': [SS_reg, SS_res, SS_tot],\n",
    "        'DF': [df_reg, df_res, df_tot],\n",
    "        'MS': [MS_reg, MS_res, np.nan],  # No mean square for total row\n",
    "        'F': [F_value, np.nan, np.nan],  # No F-value for total row\n",
    "        'Pr(>F)': [p_value, np.nan, np.nan]  # No p-value for total row\n",
    "    })\n",
    "    \n",
    "    # Print the ANOVA table\n",
    "    # print(anova_table_manual)\n",
    "\n",
    "    return anova_table_manual, SS_res, MS_res, df_res\n",
    "\n",
    "def F_test(low_feature_SSE, SS_res, MS_res, features_added):\n",
    "    f_test = ((low_feature_SSE - SS_res) / features_added) / MS_res\n",
    "    return f_test\n",
    "\n",
    "def P_value(f_test, features_added, df_res):\n",
    "    # Calculate the right-tailed F probability distribution\n",
    "    probability = 1 - f.cdf(f_test, features_added, df_res)\n",
    "    return probability"
   ]
  },
  {
   "cell_type": "code",
   "execution_count": null,
   "id": "61bb7052-8360-4a1c-8acf-727ba744d498",
   "metadata": {},
   "outputs": [],
   "source": []
  },
  {
   "cell_type": "code",
   "execution_count": 10,
   "id": "d00c2292-3dd9-4ecb-9db9-b75c2b37193b",
   "metadata": {},
   "outputs": [
    {
     "name": "stdout",
     "output_type": "stream",
     "text": [
      "co2_emissions ~ make\n",
      "                         SS    DF            MS           F        Pr(>F)\n",
      "0  Regression  5.899918e+06     1  5.899918e+06  2446.50542  1.110223e-16\n",
      "1    Residual  1.424032e+07  5905  2.411570e+03         NaN           NaN\n",
      "2       Total  2.014024e+07  5906           NaN         NaN           NaN\n",
      "\n",
      "co2_emissions ~ model\n",
      "                         SS    DF            MS             F        Pr(>F)\n",
      "0  Regression  1.349542e+07     1  1.349542e+07  11992.874849  1.110223e-16\n",
      "1    Residual  6.644817e+06  5905  1.125287e+03           NaN           NaN\n",
      "2       Total  2.014024e+07  5906           NaN           NaN           NaN\n",
      "\n",
      "co2_emissions ~ vehicle_class\n",
      "                         SS    DF            MS            F        Pr(>F)\n",
      "0  Regression  3.280460e+06     1  3.280460e+06  1148.954322  1.110223e-16\n",
      "1    Residual  1.685978e+07  5905  2.855170e+03          NaN           NaN\n",
      "2       Total  2.014024e+07  5906           NaN          NaN           NaN\n",
      "\n",
      "co2_emissions ~ engine_size\n",
      "                         SS    DF            MS             F        Pr(>F)\n",
      "0  Regression  1.460002e+07     1  1.460002e+07  15561.317481  1.110223e-16\n",
      "1    Residual  5.540219e+06  5905  9.382251e+02           NaN           NaN\n",
      "2       Total  2.014024e+07  5906           NaN           NaN           NaN\n",
      "\n",
      "co2_emissions ~ cylinders\n",
      "                         SS    DF            MS             F        Pr(>F)\n",
      "0  Regression  1.395188e+07     1  1.395188e+07  13313.024791  1.110223e-16\n",
      "1    Residual  6.188362e+06  5905  1.047987e+03           NaN           NaN\n",
      "2       Total  2.014024e+07  5906           NaN           NaN           NaN\n",
      "\n",
      "co2_emissions ~ fuel_type\n",
      "                         SS    DF             MS           F        Pr(>F)\n",
      "0  Regression  4.726677e+05     1  472667.719219  141.913969  1.110223e-16\n",
      "1    Residual  1.966757e+07  5905    3330.663791         NaN           NaN\n",
      "2       Total  2.014024e+07  5906            NaN         NaN           NaN\n",
      "\n",
      "co2_emissions ~ fuel_consumption_comb\n",
      "                         SS    DF            MS             F        Pr(>F)\n",
      "0  Regression  1.695132e+07     1  1.695132e+07  31389.216091  1.110223e-16\n",
      "1    Residual  3.188915e+06  5905  5.400365e+02           NaN           NaN\n",
      "2       Total  2.014024e+07  5906           NaN           NaN           NaN\n",
      "\n"
     ]
    }
   ],
   "source": [
    "for i in transport_df_IV_TO_DV.columns:\n",
    "    formula = f'co2_emissions ~ {i}'\n",
    "    anova_table_manual, SS_res, MS_res, df_res = create_ANOVA(formula)\n",
    "    print(formula)\n",
    "    print(anova_table_manual)\n",
    "    print()"
   ]
  },
  {
   "cell_type": "code",
   "execution_count": 11,
   "id": "9d400d11-3dfb-47ab-bbc1-f1b994f5a379",
   "metadata": {},
   "outputs": [
    {
     "name": "stdout",
     "output_type": "stream",
     "text": [
      "low_feature_SSE :  3188915.4499986055\n",
      "\n",
      "                             sum_sq      df             F  PR(>F)\n",
      "fuel_consumption_comb  1.695132e+07     1.0  31389.216091     0.0\n",
      "Residual               3.188915e+06  5905.0           NaN     NaN\n"
     ]
    }
   ],
   "source": [
    "# So here the selected feature is \"fuel_consumption_comb\"\n",
    "\n",
    "# Construct the formula string dynamically\n",
    "formula = f'co2_emissions ~ fuel_consumption_comb'\n",
    "\n",
    "# Fit the model using the formula\n",
    "model = ols(formula, data=train_df).fit()\n",
    "\n",
    "# Perform ANOVA analysis\n",
    "anova_table = sm.stats.anova_lm(model, typ=2)\n",
    "low_feature_SSE = anova_table.sum_sq['Residual']\n",
    "print(\"low_feature_SSE : \", low_feature_SSE)\n",
    "print()\n",
    "print(anova_table)"
   ]
  },
  {
   "cell_type": "code",
   "execution_count": 12,
   "id": "a8d69412-f0f1-4189-a04a-34f9616484b5",
   "metadata": {},
   "outputs": [],
   "source": [
    "transport_df_IV_TO_DV = transport_df_IV_TO_DV.drop(['fuel_consumption_comb'], axis=1)"
   ]
  },
  {
   "cell_type": "code",
   "execution_count": null,
   "id": "5b3d4494-d028-4a11-8900-0af955cce9b1",
   "metadata": {},
   "outputs": [],
   "source": []
  },
  {
   "cell_type": "code",
   "execution_count": 13,
   "id": "aa4937ab-5f36-4a0a-acd6-c236d79c0818",
   "metadata": {},
   "outputs": [
    {
     "name": "stdout",
     "output_type": "stream",
     "text": [
      "SSE Reduction :  703909.9078675103\n",
      "P_value is :  1.1102230246251565e-16\n",
      "Selected Column is :  cylinders\n",
      "co2_emissions ~ fuel_consumption_comb + cylinders\n",
      "low_feature_SSE :  2485005.5421310947\n",
      "\n",
      "SSE Reduction :  263308.1680198\n",
      "P_value is :  1.1102230246251565e-16\n",
      "Selected Column is :  model\n",
      "co2_emissions ~ fuel_consumption_comb + cylinders + model\n",
      "low_feature_SSE :  2221697.374111295\n",
      "\n",
      "SSE Reduction :  215704.25420805323\n",
      "P_value is :  1.1102230246251565e-16\n",
      "Selected Column is :  fuel_type\n",
      "co2_emissions ~ fuel_consumption_comb + cylinders + model + fuel_type\n",
      "low_feature_SSE :  2005993.1199032424\n",
      "\n",
      "SSE Reduction :  31222.10543977027\n",
      "P_value is :  1.1102230246251565e-16\n",
      "Selected Column is :  vehicle_class\n",
      "co2_emissions ~ fuel_consumption_comb + cylinders + model + fuel_type + vehicle_class\n",
      "low_feature_SSE :  1974771.0144634724\n",
      "\n",
      "SSE Reduction :  21845.181878559524\n",
      "P_value is :  5.551115123125783e-16\n",
      "Selected Column is :  engine_size\n",
      "co2_emissions ~ fuel_consumption_comb + cylinders + model + fuel_type + vehicle_class + engine_size\n",
      "low_feature_SSE :  1952925.8325849131\n",
      "\n",
      "SSE Reduction :  3040.8421762536746\n",
      "P_value is :  0.0024313688530844813\n",
      "Selected Column is :  make\n",
      "co2_emissions ~ fuel_consumption_comb + cylinders + model + fuel_type + vehicle_class + engine_size + make\n",
      "low_feature_SSE :  1949884.99040866\n",
      "\n"
     ]
    }
   ],
   "source": [
    "threshold_p_value = 0.05\n",
    "formula = f'co2_emissions ~ fuel_consumption_comb'\n",
    "p_value_list = []\n",
    "SSE_reduction_list = []\n",
    "p_value = 0.03\n",
    "\n",
    "while ((p_value < threshold_p_value) and (transport_df_IV_TO_DV.shape[1] != 0)):\n",
    "\n",
    "    for i in transport_df_IV_TO_DV.columns:\n",
    "        anova_table_manual, SS_res, MS_res, df_res = create_ANOVA((formula + f' + {i}'))\n",
    "        f_test = F_test(low_feature_SSE, SS_res, MS_res, 1)\n",
    "        p_value = P_value(f_test, 1, df_res)\n",
    "    \n",
    "        p_value_list.append(p_value)\n",
    "        SSE_reduction_list.append((low_feature_SSE - SS_res))\n",
    "\n",
    "    sse_reduction_max = max(SSE_reduction_list)\n",
    "    sse_reduction_max_index = SSE_reduction_list.index(sse_reduction_max)\n",
    "    print(\"SSE Reduction : \", sse_reduction_max)\n",
    "    \n",
    "    # p_value_low = min(p_value_list)\n",
    "    # print(\"p_value_low : \", p_value_low)\n",
    "    \n",
    "    # p_value_low_index = p_value_list.index(p_value_low)\n",
    "\n",
    "    p_value = p_value_list[sse_reduction_max_index]\n",
    "    print(\"P_value is : \", p_value)\n",
    "    \n",
    "    selected_column_name = transport_df_IV_TO_DV.columns[sse_reduction_max_index]\n",
    "    print(\"Selected Column is : \", selected_column_name)\n",
    "\n",
    "    if (p_value < threshold_p_value):\n",
    "        formula = formula + f' + {selected_column_name}'\n",
    "        print(formula)\n",
    "        \n",
    "        # Fit the model using the formula\n",
    "        model = ols(formula, data=train_df).fit()\n",
    "        # Perform ANOVA analysis\n",
    "        anova_table = sm.stats.anova_lm(model, typ=2)\n",
    "        low_feature_SSE = anova_table.sum_sq['Residual']\n",
    "        print(\"low_feature_SSE : \", low_feature_SSE)\n",
    "    \n",
    "        transport_df_IV_TO_DV.drop([selected_column_name], axis=1, inplace=True)\n",
    "\n",
    "    p_value_list.clear()\n",
    "    SSE_reduction_list.clear()\n",
    "    print()\n"
   ]
  },
  {
   "cell_type": "code",
   "execution_count": 14,
   "id": "980b2619-a5a6-4023-8bb0-0e782d05a4ac",
   "metadata": {},
   "outputs": [
    {
     "data": {
      "text/plain": [
       "'co2_emissions ~ fuel_consumption_comb + cylinders + model + fuel_type + vehicle_class + engine_size + make'"
      ]
     },
     "execution_count": 14,
     "metadata": {},
     "output_type": "execute_result"
    }
   ],
   "source": [
    "# Find which Independent Variables are selected through the Forward Selection Technique.\n",
    "formula"
   ]
  },
  {
   "cell_type": "code",
   "execution_count": 15,
   "id": "b960276e-b1f4-4c8f-bf92-45289bb5d0b1",
   "metadata": {},
   "outputs": [
    {
     "data": {
      "text/plain": [
       "Index([], dtype='object')"
      ]
     },
     "execution_count": 15,
     "metadata": {},
     "output_type": "execute_result"
    }
   ],
   "source": [
    "# Find the missing columns in the model.\n",
    "transport_df_IV_TO_DV.columns"
   ]
  },
  {
   "cell_type": "code",
   "execution_count": 16,
   "id": "ef0420dc-50da-4d31-a67b-3990c13ca039",
   "metadata": {},
   "outputs": [
    {
     "data": {
      "text/html": [
       "<div>\n",
       "<style scoped>\n",
       "    .dataframe tbody tr th:only-of-type {\n",
       "        vertical-align: middle;\n",
       "    }\n",
       "\n",
       "    .dataframe tbody tr th {\n",
       "        vertical-align: top;\n",
       "    }\n",
       "\n",
       "    .dataframe thead th {\n",
       "        text-align: right;\n",
       "    }\n",
       "</style>\n",
       "<table border=\"1\" class=\"dataframe\">\n",
       "  <thead>\n",
       "    <tr style=\"text-align: right;\">\n",
       "      <th></th>\n",
       "      <th>sum_sq</th>\n",
       "      <th>df</th>\n",
       "      <th>F</th>\n",
       "      <th>PR(&gt;F)</th>\n",
       "    </tr>\n",
       "  </thead>\n",
       "  <tbody>\n",
       "    <tr>\n",
       "      <th>fuel_consumption_comb</th>\n",
       "      <td>1.641031e+06</td>\n",
       "      <td>1.0</td>\n",
       "      <td>4964.621644</td>\n",
       "      <td>0.000000e+00</td>\n",
       "    </tr>\n",
       "    <tr>\n",
       "      <th>cylinders</th>\n",
       "      <td>5.591803e+04</td>\n",
       "      <td>1.0</td>\n",
       "      <td>169.169182</td>\n",
       "      <td>3.746467e-38</td>\n",
       "    </tr>\n",
       "    <tr>\n",
       "      <th>model</th>\n",
       "      <td>1.585421e+05</td>\n",
       "      <td>1.0</td>\n",
       "      <td>479.638380</td>\n",
       "      <td>2.774832e-102</td>\n",
       "    </tr>\n",
       "    <tr>\n",
       "      <th>fuel_type</th>\n",
       "      <td>2.523628e+05</td>\n",
       "      <td>1.0</td>\n",
       "      <td>763.474873</td>\n",
       "      <td>3.838045e-158</td>\n",
       "    </tr>\n",
       "    <tr>\n",
       "      <th>vehicle_class</th>\n",
       "      <td>2.759475e+04</td>\n",
       "      <td>1.0</td>\n",
       "      <td>83.482568</td>\n",
       "      <td>8.673387e-20</td>\n",
       "    </tr>\n",
       "    <tr>\n",
       "      <th>engine_size</th>\n",
       "      <td>2.037326e+04</td>\n",
       "      <td>1.0</td>\n",
       "      <td>61.635367</td>\n",
       "      <td>4.874976e-15</td>\n",
       "    </tr>\n",
       "    <tr>\n",
       "      <th>make</th>\n",
       "      <td>3.040842e+03</td>\n",
       "      <td>1.0</td>\n",
       "      <td>9.199480</td>\n",
       "      <td>2.431369e-03</td>\n",
       "    </tr>\n",
       "    <tr>\n",
       "      <th>Residual</th>\n",
       "      <td>1.949885e+06</td>\n",
       "      <td>5899.0</td>\n",
       "      <td>NaN</td>\n",
       "      <td>NaN</td>\n",
       "    </tr>\n",
       "  </tbody>\n",
       "</table>\n",
       "</div>"
      ],
      "text/plain": [
       "                             sum_sq      df            F         PR(>F)\n",
       "fuel_consumption_comb  1.641031e+06     1.0  4964.621644   0.000000e+00\n",
       "cylinders              5.591803e+04     1.0   169.169182   3.746467e-38\n",
       "model                  1.585421e+05     1.0   479.638380  2.774832e-102\n",
       "fuel_type              2.523628e+05     1.0   763.474873  3.838045e-158\n",
       "vehicle_class          2.759475e+04     1.0    83.482568   8.673387e-20\n",
       "engine_size            2.037326e+04     1.0    61.635367   4.874976e-15\n",
       "make                   3.040842e+03     1.0     9.199480   2.431369e-03\n",
       "Residual               1.949885e+06  5899.0          NaN            NaN"
      ]
     },
     "execution_count": 16,
     "metadata": {},
     "output_type": "execute_result"
    }
   ],
   "source": [
    "# Train the model with the selected features from Forward Selection Technique.\n",
    "\n",
    "# Fit the model using the formula\n",
    "model = ols(formula, data=train_df).fit()\n",
    "\n",
    "# Perform ANOVA analysis\n",
    "anova_table = sm.stats.anova_lm(model, typ=2)\n",
    "anova_table"
   ]
  },
  {
   "cell_type": "code",
   "execution_count": 17,
   "id": "f44a9275-04da-41ec-8b90-b66410cb80bd",
   "metadata": {},
   "outputs": [
    {
     "data": {
      "text/html": [
       "<table class=\"simpletable\">\n",
       "<caption>OLS Regression Results</caption>\n",
       "<tr>\n",
       "  <th>Dep. Variable:</th>      <td>co2_emissions</td>  <th>  R-squared:         </th> <td>   0.903</td> \n",
       "</tr>\n",
       "<tr>\n",
       "  <th>Model:</th>                   <td>OLS</td>       <th>  Adj. R-squared:    </th> <td>   0.903</td> \n",
       "</tr>\n",
       "<tr>\n",
       "  <th>Method:</th>             <td>Least Squares</td>  <th>  F-statistic:       </th> <td>   7862.</td> \n",
       "</tr>\n",
       "<tr>\n",
       "  <th>Date:</th>             <td>Tue, 27 Feb 2024</td> <th>  Prob (F-statistic):</th>  <td>  0.00</td>  \n",
       "</tr>\n",
       "<tr>\n",
       "  <th>Time:</th>                 <td>15:44:25</td>     <th>  Log-Likelihood:    </th> <td> -25510.</td> \n",
       "</tr>\n",
       "<tr>\n",
       "  <th>No. Observations:</th>      <td>  5907</td>      <th>  AIC:               </th> <td>5.104e+04</td>\n",
       "</tr>\n",
       "<tr>\n",
       "  <th>Df Residuals:</th>          <td>  5899</td>      <th>  BIC:               </th> <td>5.109e+04</td>\n",
       "</tr>\n",
       "<tr>\n",
       "  <th>Df Model:</th>              <td>     7</td>      <th>                     </th>     <td> </td>    \n",
       "</tr>\n",
       "<tr>\n",
       "  <th>Covariance Type:</th>      <td>nonrobust</td>    <th>                     </th>     <td> </td>    \n",
       "</tr>\n",
       "</table>\n",
       "<table class=\"simpletable\">\n",
       "<tr>\n",
       "            <td></td>               <th>coef</th>     <th>std err</th>      <th>t</th>      <th>P>|t|</th>  <th>[0.025</th>    <th>0.975]</th>  \n",
       "</tr>\n",
       "<tr>\n",
       "  <th>Intercept</th>             <td>   -5.7323</td> <td>    2.453</td> <td>   -2.337</td> <td> 0.019</td> <td>  -10.541</td> <td>   -0.923</td>\n",
       "</tr>\n",
       "<tr>\n",
       "  <th>fuel_consumption_comb</th> <td>   11.7184</td> <td>    0.166</td> <td>   70.460</td> <td> 0.000</td> <td>   11.392</td> <td>   12.044</td>\n",
       "</tr>\n",
       "<tr>\n",
       "  <th>cylinders</th>             <td>    4.7257</td> <td>    0.363</td> <td>   13.007</td> <td> 0.000</td> <td>    4.013</td> <td>    5.438</td>\n",
       "</tr>\n",
       "<tr>\n",
       "  <th>model</th>                 <td>    0.2767</td> <td>    0.013</td> <td>   21.901</td> <td> 0.000</td> <td>    0.252</td> <td>    0.302</td>\n",
       "</tr>\n",
       "<tr>\n",
       "  <th>fuel_type</th>             <td>   10.3537</td> <td>    0.375</td> <td>   27.631</td> <td> 0.000</td> <td>    9.619</td> <td>   11.088</td>\n",
       "</tr>\n",
       "<tr>\n",
       "  <th>vehicle_class</th>         <td>    1.0926</td> <td>    0.120</td> <td>    9.137</td> <td> 0.000</td> <td>    0.858</td> <td>    1.327</td>\n",
       "</tr>\n",
       "<tr>\n",
       "  <th>engine_size</th>           <td>    4.0746</td> <td>    0.519</td> <td>    7.851</td> <td> 0.000</td> <td>    3.057</td> <td>    5.092</td>\n",
       "</tr>\n",
       "<tr>\n",
       "  <th>make</th>                  <td>   -0.0299</td> <td>    0.010</td> <td>   -3.033</td> <td> 0.002</td> <td>   -0.049</td> <td>   -0.011</td>\n",
       "</tr>\n",
       "</table>\n",
       "<table class=\"simpletable\">\n",
       "<tr>\n",
       "  <th>Omnibus:</th>       <td>759.425</td> <th>  Durbin-Watson:     </th> <td>   2.025</td>\n",
       "</tr>\n",
       "<tr>\n",
       "  <th>Prob(Omnibus):</th> <td> 0.000</td>  <th>  Jarque-Bera (JB):  </th> <td>2692.951</td>\n",
       "</tr>\n",
       "<tr>\n",
       "  <th>Skew:</th>          <td>-0.628</td>  <th>  Prob(JB):          </th> <td>    0.00</td>\n",
       "</tr>\n",
       "<tr>\n",
       "  <th>Kurtosis:</th>      <td> 6.060</td>  <th>  Cond. No.          </th> <td>3.72e+03</td>\n",
       "</tr>\n",
       "</table><br/><br/>Notes:<br/>[1] Standard Errors assume that the covariance matrix of the errors is correctly specified.<br/>[2] The condition number is large, 3.72e+03. This might indicate that there are<br/>strong multicollinearity or other numerical problems."
      ],
      "text/latex": [
       "\\begin{center}\n",
       "\\begin{tabular}{lclc}\n",
       "\\toprule\n",
       "\\textbf{Dep. Variable:}          &  co2\\_emissions  & \\textbf{  R-squared:         } &     0.903   \\\\\n",
       "\\textbf{Model:}                  &       OLS        & \\textbf{  Adj. R-squared:    } &     0.903   \\\\\n",
       "\\textbf{Method:}                 &  Least Squares   & \\textbf{  F-statistic:       } &     7862.   \\\\\n",
       "\\textbf{Date:}                   & Tue, 27 Feb 2024 & \\textbf{  Prob (F-statistic):} &     0.00    \\\\\n",
       "\\textbf{Time:}                   &     15:44:25     & \\textbf{  Log-Likelihood:    } &   -25510.   \\\\\n",
       "\\textbf{No. Observations:}       &        5907      & \\textbf{  AIC:               } & 5.104e+04   \\\\\n",
       "\\textbf{Df Residuals:}           &        5899      & \\textbf{  BIC:               } & 5.109e+04   \\\\\n",
       "\\textbf{Df Model:}               &           7      & \\textbf{                     } &             \\\\\n",
       "\\textbf{Covariance Type:}        &    nonrobust     & \\textbf{                     } &             \\\\\n",
       "\\bottomrule\n",
       "\\end{tabular}\n",
       "\\begin{tabular}{lcccccc}\n",
       "                                 & \\textbf{coef} & \\textbf{std err} & \\textbf{t} & \\textbf{P$> |$t$|$} & \\textbf{[0.025} & \\textbf{0.975]}  \\\\\n",
       "\\midrule\n",
       "\\textbf{Intercept}               &      -5.7323  &        2.453     &    -2.337  &         0.019        &      -10.541    &       -0.923     \\\\\n",
       "\\textbf{fuel\\_consumption\\_comb} &      11.7184  &        0.166     &    70.460  &         0.000        &       11.392    &       12.044     \\\\\n",
       "\\textbf{cylinders}               &       4.7257  &        0.363     &    13.007  &         0.000        &        4.013    &        5.438     \\\\\n",
       "\\textbf{model}                   &       0.2767  &        0.013     &    21.901  &         0.000        &        0.252    &        0.302     \\\\\n",
       "\\textbf{fuel\\_type}              &      10.3537  &        0.375     &    27.631  &         0.000        &        9.619    &       11.088     \\\\\n",
       "\\textbf{vehicle\\_class}          &       1.0926  &        0.120     &     9.137  &         0.000        &        0.858    &        1.327     \\\\\n",
       "\\textbf{engine\\_size}            &       4.0746  &        0.519     &     7.851  &         0.000        &        3.057    &        5.092     \\\\\n",
       "\\textbf{make}                    &      -0.0299  &        0.010     &    -3.033  &         0.002        &       -0.049    &       -0.011     \\\\\n",
       "\\bottomrule\n",
       "\\end{tabular}\n",
       "\\begin{tabular}{lclc}\n",
       "\\textbf{Omnibus:}       & 759.425 & \\textbf{  Durbin-Watson:     } &    2.025  \\\\\n",
       "\\textbf{Prob(Omnibus):} &   0.000 & \\textbf{  Jarque-Bera (JB):  } & 2692.951  \\\\\n",
       "\\textbf{Skew:}          &  -0.628 & \\textbf{  Prob(JB):          } &     0.00  \\\\\n",
       "\\textbf{Kurtosis:}      &   6.060 & \\textbf{  Cond. No.          } & 3.72e+03  \\\\\n",
       "\\bottomrule\n",
       "\\end{tabular}\n",
       "%\\caption{OLS Regression Results}\n",
       "\\end{center}\n",
       "\n",
       "Notes: \\newline\n",
       " [1] Standard Errors assume that the covariance matrix of the errors is correctly specified. \\newline\n",
       " [2] The condition number is large, 3.72e+03. This might indicate that there are \\newline\n",
       " strong multicollinearity or other numerical problems."
      ],
      "text/plain": [
       "<class 'statsmodels.iolib.summary.Summary'>\n",
       "\"\"\"\n",
       "                            OLS Regression Results                            \n",
       "==============================================================================\n",
       "Dep. Variable:          co2_emissions   R-squared:                       0.903\n",
       "Model:                            OLS   Adj. R-squared:                  0.903\n",
       "Method:                 Least Squares   F-statistic:                     7862.\n",
       "Date:                Tue, 27 Feb 2024   Prob (F-statistic):               0.00\n",
       "Time:                        15:44:25   Log-Likelihood:                -25510.\n",
       "No. Observations:                5907   AIC:                         5.104e+04\n",
       "Df Residuals:                    5899   BIC:                         5.109e+04\n",
       "Df Model:                           7                                         \n",
       "Covariance Type:            nonrobust                                         \n",
       "=========================================================================================\n",
       "                            coef    std err          t      P>|t|      [0.025      0.975]\n",
       "-----------------------------------------------------------------------------------------\n",
       "Intercept                -5.7323      2.453     -2.337      0.019     -10.541      -0.923\n",
       "fuel_consumption_comb    11.7184      0.166     70.460      0.000      11.392      12.044\n",
       "cylinders                 4.7257      0.363     13.007      0.000       4.013       5.438\n",
       "model                     0.2767      0.013     21.901      0.000       0.252       0.302\n",
       "fuel_type                10.3537      0.375     27.631      0.000       9.619      11.088\n",
       "vehicle_class             1.0926      0.120      9.137      0.000       0.858       1.327\n",
       "engine_size               4.0746      0.519      7.851      0.000       3.057       5.092\n",
       "make                     -0.0299      0.010     -3.033      0.002      -0.049      -0.011\n",
       "==============================================================================\n",
       "Omnibus:                      759.425   Durbin-Watson:                   2.025\n",
       "Prob(Omnibus):                  0.000   Jarque-Bera (JB):             2692.951\n",
       "Skew:                          -0.628   Prob(JB):                         0.00\n",
       "Kurtosis:                       6.060   Cond. No.                     3.72e+03\n",
       "==============================================================================\n",
       "\n",
       "Notes:\n",
       "[1] Standard Errors assume that the covariance matrix of the errors is correctly specified.\n",
       "[2] The condition number is large, 3.72e+03. This might indicate that there are\n",
       "strong multicollinearity or other numerical problems.\n",
       "\"\"\""
      ]
     },
     "execution_count": 17,
     "metadata": {},
     "output_type": "execute_result"
    }
   ],
   "source": [
    "# Viewing the model summary.\n",
    "model.summary()"
   ]
  },
  {
   "cell_type": "code",
   "execution_count": null,
   "id": "8cdc0e62-6f81-4d5a-8cf3-c8203a67fc3e",
   "metadata": {},
   "outputs": [],
   "source": []
  },
  {
   "cell_type": "code",
   "execution_count": null,
   "id": "82d466eb-0df6-4525-8fc2-0a961bc3d27b",
   "metadata": {},
   "outputs": [],
   "source": []
  },
  {
   "cell_type": "code",
   "execution_count": 18,
   "id": "84060710-5335-48f3-bda7-9c50318fe8dd",
   "metadata": {},
   "outputs": [
    {
     "name": "stdout",
     "output_type": "stream",
     "text": [
      "Mean Squared Error (MSE): 323.104059221643\n",
      "R-squared (R2): 0.9070574402922063\n"
     ]
    }
   ],
   "source": [
    "# Testing the Model.\n",
    "\n",
    "from sklearn.metrics import mean_squared_error, r2_score\n",
    "\n",
    "# Use the fitted model to make predictions on the testing data\n",
    "predictions = model.predict(test_df)\n",
    "\n",
    "# Calculate evaluation metrics\n",
    "mse = mean_squared_error(test_df['co2_emissions'], predictions)\n",
    "r2 = r2_score(test_df['co2_emissions'], predictions)\n",
    "\n",
    "# Print the evaluation metrics\n",
    "print(\"Mean Squared Error (MSE):\", mse)\n",
    "print(\"R-squared (R2):\", r2)"
   ]
  },
  {
   "cell_type": "code",
   "execution_count": 19,
   "id": "f582fe15-4199-4686-b7b4-a0e6e9e3468c",
   "metadata": {},
   "outputs": [
    {
     "data": {
      "image/png": "[encoded data removed]",
      "text/plain": [
       "<Figure size 1000x600 with 1 Axes>"
      ]
     },
     "metadata": {},
     "output_type": "display_data"
    }
   ],
   "source": [
    "# Plot Actual vs Predicted values\n",
    "plt.figure(figsize=(10, 6))\n",
    "sns.scatterplot(x=test_df['co2_emissions'], y=predictions)\n",
    "plt.xlabel('Actual CO2 Emissions')\n",
    "plt.ylabel('Predicted CO2 Emissions')\n",
    "plt.title('Actual vs Predicted CO2 Emissions')\n",
    "plt.show()"
   ]
  },
  {
   "cell_type": "code",
   "execution_count": 20,
   "id": "e8ee0705-f6ee-48b6-a55d-663e0244927d",
   "metadata": {},
   "outputs": [
    {
     "data": {
      "image/png": "[encoded data removed]",
      "text/plain": [
       "<Figure size 800x600 with 1 Axes>"
      ]
     },
     "metadata": {},
     "output_type": "display_data"
    }
   ],
   "source": [
    "# Calculate residuals\n",
    "residuals = test_df['co2_emissions'] - predictions\n",
    "\n",
    "# Create the residual plot\n",
    "plt.figure(figsize=(8, 6))\n",
    "sns.scatterplot(x=test_df['co2_emissions'], y=residuals, color='blue')\n",
    "# Adding a horizontal line at y=0\n",
    "plt.axhline(y=0, color='red', linestyle='--')\n",
    "plt.title('Residual Plot')\n",
    "plt.xlabel('Actual Values')\n",
    "plt.ylabel('Residuals')\n",
    "plt.show()"
   ]
  },
  {
   "cell_type": "code",
   "execution_count": null,
   "id": "628a9a3d-941c-4378-9040-c825fc9973b7",
   "metadata": {},
   "outputs": [],
   "source": []
  }
 ],
 "metadata": {
  "kernelspec": {
   "display_name": "Python 3 (ipykernel)",
   "language": "python",
   "name": "python3"
  },
  "language_info": {
   "codemirror_mode": {
    "name": "ipython",
    "version": 3
   },
   "file_extension": ".py",
   "mimetype": "text/x-python",
   "name": "python",
   "nbconvert_exporter": "python",
   "pygments_lexer": "ipython3",
   "version": "3.8.18"
  }
 },
 "nbformat": 4,
 "nbformat_minor": 5
}

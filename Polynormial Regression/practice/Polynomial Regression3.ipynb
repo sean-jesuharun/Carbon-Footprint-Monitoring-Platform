{
 "cells": [
  {
   "cell_type": "code",
   "execution_count": 14,
   "id": "bc11ea70",
   "metadata": {},
   "outputs": [],
   "source": [
    "#import necessary libraries\n",
    "\n",
    "import numpy as np\n",
    "import pandas as pd\n",
    "import matplotlib.pyplot as plt"
   ]
  },
  {
   "cell_type": "code",
   "execution_count": 15,
   "id": "f687aba0",
   "metadata": {},
   "outputs": [],
   "source": [
    "df = pd.read_csv('Levels_Fyi_Salary_Data.csv')\n",
    "salaryDF = df[['totalyearlycompensation', 'yearsofexperience', 'yearsatcompany', 'basesalary']]"
   ]
  },
  {
   "cell_type": "code",
   "execution_count": 16,
   "id": "f119a836",
   "metadata": {
    "scrolled": true
   },
   "outputs": [
    {
     "data": {
      "text/html": [
       "<div>\n",
       "<style scoped>\n",
       "    .dataframe tbody tr th:only-of-type {\n",
       "        vertical-align: middle;\n",
       "    }\n",
       "\n",
       "    .dataframe tbody tr th {\n",
       "        vertical-align: top;\n",
       "    }\n",
       "\n",
       "    .dataframe thead th {\n",
       "        text-align: right;\n",
       "    }\n",
       "</style>\n",
       "<table border=\"1\" class=\"dataframe\">\n",
       "  <thead>\n",
       "    <tr style=\"text-align: right;\">\n",
       "      <th></th>\n",
       "      <th>totalyearlycompensation</th>\n",
       "      <th>yearsofexperience</th>\n",
       "      <th>yearsatcompany</th>\n",
       "      <th>basesalary</th>\n",
       "    </tr>\n",
       "  </thead>\n",
       "  <tbody>\n",
       "    <tr>\n",
       "      <th>0</th>\n",
       "      <td>127000</td>\n",
       "      <td>1.5</td>\n",
       "      <td>1.5</td>\n",
       "      <td>107000.0</td>\n",
       "    </tr>\n",
       "    <tr>\n",
       "      <th>1</th>\n",
       "      <td>100000</td>\n",
       "      <td>5.0</td>\n",
       "      <td>3.0</td>\n",
       "      <td>0.0</td>\n",
       "    </tr>\n",
       "    <tr>\n",
       "      <th>2</th>\n",
       "      <td>310000</td>\n",
       "      <td>8.0</td>\n",
       "      <td>0.0</td>\n",
       "      <td>155000.0</td>\n",
       "    </tr>\n",
       "    <tr>\n",
       "      <th>3</th>\n",
       "      <td>372000</td>\n",
       "      <td>7.0</td>\n",
       "      <td>5.0</td>\n",
       "      <td>157000.0</td>\n",
       "    </tr>\n",
       "    <tr>\n",
       "      <th>4</th>\n",
       "      <td>157000</td>\n",
       "      <td>5.0</td>\n",
       "      <td>3.0</td>\n",
       "      <td>0.0</td>\n",
       "    </tr>\n",
       "    <tr>\n",
       "      <th>...</th>\n",
       "      <td>...</td>\n",
       "      <td>...</td>\n",
       "      <td>...</td>\n",
       "      <td>...</td>\n",
       "    </tr>\n",
       "    <tr>\n",
       "      <th>62637</th>\n",
       "      <td>327000</td>\n",
       "      <td>10.0</td>\n",
       "      <td>1.0</td>\n",
       "      <td>155000.0</td>\n",
       "    </tr>\n",
       "    <tr>\n",
       "      <th>62638</th>\n",
       "      <td>237000</td>\n",
       "      <td>2.0</td>\n",
       "      <td>2.0</td>\n",
       "      <td>146900.0</td>\n",
       "    </tr>\n",
       "    <tr>\n",
       "      <th>62639</th>\n",
       "      <td>220000</td>\n",
       "      <td>14.0</td>\n",
       "      <td>12.0</td>\n",
       "      <td>157000.0</td>\n",
       "    </tr>\n",
       "    <tr>\n",
       "      <th>62640</th>\n",
       "      <td>280000</td>\n",
       "      <td>8.0</td>\n",
       "      <td>4.0</td>\n",
       "      <td>194688.0</td>\n",
       "    </tr>\n",
       "    <tr>\n",
       "      <th>62641</th>\n",
       "      <td>200000</td>\n",
       "      <td>0.0</td>\n",
       "      <td>0.0</td>\n",
       "      <td>155000.0</td>\n",
       "    </tr>\n",
       "  </tbody>\n",
       "</table>\n",
       "<p>62642 rows × 4 columns</p>\n",
       "</div>"
      ],
      "text/plain": [
       "       totalyearlycompensation  yearsofexperience  yearsatcompany  basesalary\n",
       "0                       127000                1.5             1.5    107000.0\n",
       "1                       100000                5.0             3.0         0.0\n",
       "2                       310000                8.0             0.0    155000.0\n",
       "3                       372000                7.0             5.0    157000.0\n",
       "4                       157000                5.0             3.0         0.0\n",
       "...                        ...                ...             ...         ...\n",
       "62637                   327000               10.0             1.0    155000.0\n",
       "62638                   237000                2.0             2.0    146900.0\n",
       "62639                   220000               14.0            12.0    157000.0\n",
       "62640                   280000                8.0             4.0    194688.0\n",
       "62641                   200000                0.0             0.0    155000.0\n",
       "\n",
       "[62642 rows x 4 columns]"
      ]
     },
     "execution_count": 16,
     "metadata": {},
     "output_type": "execute_result"
    }
   ],
   "source": [
    "salaryDF"
   ]
  },
  {
   "cell_type": "code",
   "execution_count": 17,
   "id": "17372ba2",
   "metadata": {},
   "outputs": [],
   "source": [
    "X = salaryDF.iloc[:,1:]   #iloc is used to select specific columns and rows.I select all the rows and columns from 2nd one to last one.\n",
    "y_train = salaryDF.iloc[:50000,0]\n",
    "y_test = salaryDF.iloc[50000:,0]\n",
    "\n",
    "rows = X.shape[0]\n",
    "N_TRAIN = 50000\n",
    "count = 0\n",
    "train_err = {}\n",
    "test_err = {}"
   ]
  },
  {
   "cell_type": "code",
   "execution_count": 27,
   "id": "b595c937",
   "metadata": {},
   "outputs": [
    {
     "name": "stdout",
     "output_type": "stream",
     "text": [
      "(62642, 4)\n",
      "[5. 3. 0. 1.]\n",
      "(50000, 4)\n",
      "92469.43809773953\n",
      "121382.52351504721\n",
      "(62642, 7)\n",
      "[ 5. 25.  3.  9.  0.  0.  1.]\n",
      "(50000, 7)\n",
      "91573.99026037064\n",
      "129644.37305767741\n",
      "(62642, 10)\n",
      "[  5.  25. 125.   3.   9.  27.   0.   0.   0.   1.]\n",
      "(50000, 10)\n",
      "82679.3080370408\n",
      "450246.99728997156\n",
      "(62642, 13)\n",
      "[  5.  25. 125. 625.   3.   9.  27.  81.   0.   0.   0.   0.   1.]\n",
      "(50000, 13)\n",
      "76200.18255097655\n",
      "1486057.6706246205\n",
      "(62642, 16)\n",
      "[5.000e+00 2.500e+01 1.250e+02 6.250e+02 3.125e+03 3.000e+00 9.000e+00\n",
      " 2.700e+01 8.100e+01 2.430e+02 0.000e+00 0.000e+00 0.000e+00 0.000e+00\n",
      " 0.000e+00 1.000e+00]\n",
      "(50000, 16)\n",
      "75412.29147140743\n",
      "1535500.47922259\n"
     ]
    }
   ],
   "source": [
    "for i in range(1,6):\n",
    "  A = np.ones([rows, (3*i)+1])\n",
    "  print(A.shape)\n",
    "  for j in range(0,3):\n",
    "    for k in range(1, i+1):\n",
    "        A[:,count]=np.power(np.array(X.iloc[:,j]).T, k)\n",
    "        count = count+1\n",
    "  #splitting the x-values with monomials into training and testing\n",
    "  print(A[1])\n",
    "  x_train = A[0:N_TRAIN,:]\n",
    "  x_test = A[N_TRAIN:,:]\n",
    "    \n",
    "  print(x_train.shape)\n",
    "  w = np.linalg.inv(x_train.T.dot(x_train)).dot(x_train.T.dot(y_train))\n",
    "  #calculate training error\n",
    "  y_train_pred = x_train.dot(w)\n",
    "  rms_train = rmse(y_train, y_train_pred)\n",
    "  train_err[i] = rms_train\n",
    "  print(rms_train)\n",
    "    \n",
    "    \n",
    "  #calculate test error\n",
    "  y_test_pred = x_test.dot(w)\n",
    "  rms_test = rmse(y_test, y_test_pred)\n",
    "  print(rms_test)\n",
    "  test_err[i] = rms_test\n",
    "    \n",
    "  count = 0\n",
    "    "
   ]
  },
  {
   "cell_type": "code",
   "execution_count": 28,
   "id": "309e8c24",
   "metadata": {},
   "outputs": [
    {
     "data": {
      "text/plain": [
       "Text(0.5, 0, 'Polynomial degree')"
      ]
     },
     "execution_count": 28,
     "metadata": {},
     "output_type": "execute_result"
    },
    {
     "data": {
      "image/png": "[encoded data removed]",
      "text/plain": [
       "<Figure size 432x288 with 1 Axes>"
      ]
     },
     "metadata": {
      "needs_background": "light"
     },
     "output_type": "display_data"
    }
   ],
   "source": [
    "#Produce a plot of results.\n",
    "plt.plot(list(train_err.keys()), list(train_err.values()))\n",
    "plt.plot(list(test_err.keys()), list(test_err.values()))\n",
    "plt.ylabel('RMS')\n",
    "plt.legend(['Test error','Training error'])\n",
    "plt.title('Fit with polynomials, no regulations')\n",
    "plt.xlabel('Polynomial degree')"
   ]
  },
  {
   "cell_type": "code",
   "execution_count": null,
   "id": "15fa3812",
   "metadata": {},
   "outputs": [],
   "source": []
  }
 ],
 "metadata": {
  "kernelspec": {
   "display_name": "Python 3",
   "language": "python",
   "name": "python3"
  },
  "language_info": {
   "codemirror_mode": {
    "name": "ipython",
    "version": 3
   },
   "file_extension": ".py",
   "mimetype": "text/x-python",
   "name": "python",
   "nbconvert_exporter": "python",
   "pygments_lexer": "ipython3",
   "version": "3.8.8"
  }
 },
 "nbformat": 4,
 "nbformat_minor": 5
}
